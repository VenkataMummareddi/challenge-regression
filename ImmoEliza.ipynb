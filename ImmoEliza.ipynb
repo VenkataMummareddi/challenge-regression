{
 "cells": [
  {
   "cell_type": "markdown",
   "metadata": {},
   "source": [
    "# The Mission\n",
    "The real estate company \"ImmoEliza\" ask you to create a machine learning model to predict prices on Belgium's sales."
   ]
  },
  {
   "cell_type": "markdown",
   "metadata": {},
   "source": [
    "## Step 1 : Data Cleaning**\n",
    "You have collected your data, you have cleaned and analyze it a first time!\n",
    "So it's time to do some machine learning with it!\n",
    "\n",
    "But first, we have to prepare the data for machine learning.\n",
    "\n",
    "No duplicates\n",
    "No NANs\n",
    "No text data\n",
    "No features that have too strong correlation between them"
   ]
  },
  {
   "cell_type": "code",
   "execution_count": 1,
   "metadata": {
    "ExecuteTime": {
     "end_time": "2021-06-02T16:05:00.467665Z",
     "start_time": "2021-06-02T16:05:00.460918Z"
    },
    "pycharm": {
     "name": "#%%\n"
    }
   },
   "outputs": [],
   "source": [
    "# import module /library here\n",
    "import pandas as pd\n",
    "import numpy as np\n",
    "import seaborn as sns\n",
    "import matplotlib.pyplot as plt\n",
    "import xgboost\n",
    "import os\n",
    "from sklearn.linear_model  import LinearRegression\n",
    "from sklearn.pipeline import make_pipeline\n",
    "from sklearn.preprocessing import PolynomialFeatures\n",
    "import matplotlib\n",
    "import matplotlib.pyplot as plt\n",
    "from sklearn.preprocessing import StandardScaler\n",
    "from sklearn.preprocessing import MinMaxScaler\n",
    "from sklearn import preprocessing\n",
    "from sklearn.linear_model import LassoCV\n",
    "from sklearn.model_selection import train_test_split\n"
   ]
  },
  {
   "cell_type": "code",
   "execution_count": 2,
   "metadata": {
    "ExecuteTime": {
     "end_time": "2021-06-02T16:05:01.229360Z",
     "start_time": "2021-06-02T16:05:01.220055Z"
    }
   },
   "outputs": [],
   "source": [
    "\n",
    "# To display plots in notebook\n",
    "%matplotlib inline\n",
    "# To display rows and columns\n",
    "pd.set_option('display.max_columns', 100)\n",
    "pd.set_option('display.max_rows', 500)"
   ]
  },
  {
   "cell_type": "code",
   "execution_count": 3,
   "metadata": {
    "ExecuteTime": {
     "end_time": "2021-06-02T16:05:11.565244Z",
     "start_time": "2021-06-02T16:05:01.765841Z"
    }
   },
   "outputs": [
    {
     "data": {
      "text/plain": "(73510, 24)"
     },
     "execution_count": 3,
     "metadata": {},
     "output_type": "execute_result"
    }
   ],
   "source": [
    "# load data from csv\n",
    "immoweb_logicimmo = pd.read_csv('https://raw.githubusercontent.com/JulienAlardot/challenge-collecting-data/main/Data/database.csv', sep=',')\n",
    "immoweb_logicimmo.shape"
   ]
  },
  {
   "cell_type": "markdown",
   "metadata": {},
   "source": [
    "##### Change column names to lower case to make column names look same manner\n",
    "##### Drop columns not needed for Prediction or to find duplicate the  Unnamed: 0,Url and Source columns\n",
    "##### Replace space in column with \"_\" to make it access with data frame easily"
   ]
  },
  {
   "cell_type": "code",
   "execution_count": 4,
   "metadata": {
    "ExecuteTime": {
     "end_time": "2021-06-02T16:05:17.268004Z",
     "start_time": "2021-06-02T16:05:17.247184Z"
    },
    "pycharm": {
     "name": "#%%\n"
    }
   },
   "outputs": [
    {
     "data": {
      "text/plain": "Index(['locality', 'type_of_property', 'subtype_of_property', 'price',\n       'type_of_sale', 'number_of_rooms', 'area', 'fully_equipped_kitchen',\n       'furnished', 'open_fire', 'terrace', 'terrace_area', 'garden',\n       'garden_area', 'surface_of_the_land',\n       'surface_area_of_the_plot_of_land', 'number_of_facades',\n       'swimming_pool', 'state_of_the_building', 'province', 'region'],\n      dtype='object')"
     },
     "execution_count": 4,
     "metadata": {},
     "output_type": "execute_result"
    }
   ],
   "source": [
    "immoweb_logicimmo.rename(str.lower,axis=1,inplace=True)\n",
    "immoweb_logicimmo.drop(columns=['unnamed: 0','url','source'], errors='ignore',inplace=True)\n",
    "immoweb_logicimmo.columns = immoweb_logicimmo.columns.str.replace(' ','_')\n",
    "immoweb_logicimmo.columns"
   ]
  },
  {
   "cell_type": "markdown",
   "metadata": {},
   "source": [
    "##### Find Duplicates and drop the duplicates"
   ]
  },
  {
   "cell_type": "code",
   "execution_count": 5,
   "metadata": {
    "ExecuteTime": {
     "end_time": "2021-06-02T16:05:20.072413Z",
     "start_time": "2021-06-02T16:05:19.883807Z"
    },
    "pycharm": {
     "name": "#%%\n"
    }
   },
   "outputs": [
    {
     "data": {
      "text/plain": "(True, None, (73441, 21))"
     },
     "execution_count": 5,
     "metadata": {},
     "output_type": "execute_result"
    }
   ],
   "source": [
    "immoweb_logicimmo.duplicated().any(), immoweb_logicimmo.drop_duplicates(inplace=True),immoweb_logicimmo.shape\n",
    "#73510-73441 = 69 rows are duplicates"
   ]
  },
  {
   "cell_type": "markdown",
   "metadata": {},
   "source": [
    "##### Find Missing Values and Pertentage of them"
   ]
  },
  {
   "cell_type": "code",
   "execution_count": 6,
   "metadata": {
    "ExecuteTime": {
     "end_time": "2021-06-02T16:05:23.142758Z",
     "start_time": "2021-06-02T16:05:23.104205Z"
    },
    "pycharm": {
     "name": "#%%\n"
    }
   },
   "outputs": [
    {
     "data": {
      "text/plain": "locality                             0.000000\ntype_of_property                     0.517422\nsubtype_of_property                 79.963508\nprice                                1.367084\ntype_of_sale                         0.000000\nnumber_of_rooms                      1.230920\narea                                15.325227\nfully_equipped_kitchen               0.000000\nfurnished                           27.259977\nopen_fire                            0.000000\nterrace                              0.000000\nterrace_area                        68.348743\ngarden                               0.000000\ngarden_area                         85.042415\nsurface_of_the_land                 52.529241\nsurface_area_of_the_plot_of_land    52.529241\nnumber_of_facades                   51.188028\nswimming_pool                        0.000000\nstate_of_the_building               44.910881\nprovince                             0.000000\nregion                               0.000000\ndtype: float64"
     },
     "execution_count": 6,
     "metadata": {},
     "output_type": "execute_result"
    }
   ],
   "source": [
    "count_of_missing_values_per_column = immoweb_logicimmo.isna().sum()\n",
    "percent_of_missing_values_in_dataset = (count_of_missing_values_per_column/immoweb_logicimmo.shape[0])*100\n",
    "percent_of_missing_values_in_dataset"
   ]
  },
  {
   "cell_type": "markdown",
   "metadata": {},
   "source": [
    "#####  Analyze to drop rows having missing values and columns having missing Values and find importance\n",
    "    a. Drop rows where subtype of property and type of property is na\n",
    "    b. Drop surface_area_of_the_plot_of_land as it is similar as surface_of_the_land\n",
    "    c. Drop rows of public sales and then drop type_of_sale column\n",
    "    d. Drop rows having price as nan/null\n",
    "    e. Number of rooms na and area na to be removed and then\n",
    "     other rows with a and 0 neds to be filled with average number of rooms\n",
    "    f.Replace Area with Average Area\n",
    "    g.Funrished column to be filled with bfill and then remaining with average value of the column\n",
    "    h Surface of the land is calculated depending on area+10% and type of property apartment have 0\n",
    "    i.Terrace area with average value for the rows which are having terrace and\n",
    "    j.Do the same as like terrace area to garden area as well\n",
    "    k.number of facades\n",
    "    l.state_of_building create new category to fill na\n",
    "    m. Divide type_of_property ,state_of_the_building,province and region in to new columns"
   ]
  },
  {
   "cell_type": "code",
   "execution_count": 7,
   "metadata": {
    "ExecuteTime": {
     "end_time": "2021-06-02T16:05:25.760724Z",
     "start_time": "2021-06-02T16:05:25.716613Z"
    },
    "pycharm": {
     "name": "#%%\n"
    }
   },
   "outputs": [
    {
     "data": {
      "text/plain": "(Empty DataFrame\n Columns: [type_of_property, subtype_of_property]\n Index: [],\n (73133, 21))"
     },
     "execution_count": 7,
     "metadata": {},
     "output_type": "execute_result"
    }
   ],
   "source": [
    "# a. 308 rows having type_of_property na and sub type of property na ,so dropping them\n",
    "immoweb_logicimmo.dropna(subset=['type_of_property','subtype_of_property'] ,how='all',inplace=True)\n",
    "immoweb_logicimmo.type_of_property.fillna(method=\"bfill\",inplace=True)\n",
    "immoweb_logicimmo[immoweb_logicimmo.type_of_property.isna()][['type_of_property','subtype_of_property']],immoweb_logicimmo.shape"
   ]
  },
  {
   "cell_type": "code",
   "execution_count": 8,
   "metadata": {
    "ExecuteTime": {
     "end_time": "2021-06-02T16:06:40.645067Z",
     "start_time": "2021-06-02T16:06:40.628633Z"
    },
    "pycharm": {
     "name": "#%%\n"
    }
   },
   "outputs": [
    {
     "data": {
      "text/plain": "(73133, 20)"
     },
     "execution_count": 8,
     "metadata": {},
     "output_type": "execute_result"
    }
   ],
   "source": [
    "# b.Drop surface_area_of_the_plot_of_land\n",
    "immoweb_logicimmo.drop(columns=['surface_area_of_the_plot_of_land'],inplace=True,errors='ignore')\n",
    "immoweb_logicimmo.shape"
   ]
  },
  {
   "cell_type": "code",
   "execution_count": 9,
   "metadata": {
    "ExecuteTime": {
     "end_time": "2021-06-02T16:06:52.353588Z",
     "start_time": "2021-06-02T16:06:52.332773Z"
    },
    "pycharm": {
     "name": "#%%\n"
    }
   },
   "outputs": [
    {
     "data": {
      "text/plain": "(72089, 19)"
     },
     "execution_count": 9,
     "metadata": {},
     "output_type": "execute_result"
    }
   ],
   "source": [
    "# c. Drop public sale rows as it might have impact on prediction and then drop type of sale column as it is having single value\n",
    "immoweb_logicimmo.drop(immoweb_logicimmo[immoweb_logicimmo.type_of_sale =='public sale'].index,inplace=True, errors='ignore')\n",
    "immoweb_logicimmo.drop(columns=['type_of_sale'],inplace=True,errors='ignore')\n",
    "immoweb_logicimmo.shape"
   ]
  },
  {
   "cell_type": "code",
   "execution_count": 10,
   "metadata": {
    "ExecuteTime": {
     "end_time": "2021-06-02T16:23:50.012256Z",
     "start_time": "2021-06-02T16:23:49.972851Z"
    },
    "pycharm": {
     "name": "#%%\n"
    }
   },
   "outputs": [
    {
     "data": {
      "text/plain": "(71094, 19)"
     },
     "execution_count": 10,
     "metadata": {},
     "output_type": "execute_result"
    }
   ],
   "source": [
    "#d.Drop rows having no price also few rows having area and price same drop them as well\n",
    "immoweb_logicimmo.drop(immoweb_logicimmo[immoweb_logicimmo.price.isna()].index,inplace=True)\n",
    "immoweb_logicimmo.drop(immoweb_logicimmo[immoweb_logicimmo.price ==immoweb_logicimmo.area].index,inplace=True)\n",
    "immoweb_logicimmo.shape"
   ]
  },
  {
   "cell_type": "code",
   "execution_count": 11,
   "metadata": {
    "ExecuteTime": {
     "end_time": "2021-06-02T16:24:10.096436Z",
     "start_time": "2021-06-02T16:24:10.055161Z"
    },
    "pycharm": {
     "name": "#%%\n"
    }
   },
   "outputs": [],
   "source": [
    "#e. Drop rows having Area and Number of rooms as na also number of rooms zero and no area, fill number of rooms na with\n",
    "# average of number of rooms to make consistent distribution across all records\n",
    "immoweb_logicimmo.dropna(subset=['area','number_of_rooms'] ,how='all',inplace=True)\n",
    "immoweb_logicimmo.drop(immoweb_logicimmo[(immoweb_logicimmo.number_of_rooms ==0.0)&(immoweb_logicimmo.area.isna())].index,inplace=True)\n",
    "average_number_of_rooms= round(immoweb_logicimmo.number_of_rooms.mean())\n",
    "immoweb_logicimmo.number_of_rooms.fillna(average_number_of_rooms,inplace=True)\n",
    "immoweb_logicimmo.number_of_rooms = np.where(immoweb_logicimmo.number_of_rooms ==0.0,average_number_of_rooms,immoweb_logicimmo.number_of_rooms )"
   ]
  },
  {
   "cell_type": "code",
   "execution_count": 12,
   "metadata": {
    "ExecuteTime": {
     "end_time": "2021-06-02T16:24:11.710498Z",
     "start_time": "2021-06-02T16:24:11.687236Z"
    },
    "pycharm": {
     "name": "#%%\n"
    }
   },
   "outputs": [],
   "source": [
    "#f.Area and surface_of_the_land are na then drop them\n",
    "immoweb_logicimmo.dropna(subset=['area','surface_of_the_land'] ,how='all',inplace=True)\n",
    "average_area= round(immoweb_logicimmo.area.mean())\n",
    "immoweb_logicimmo.area.fillna(average_area,inplace=True)"
   ]
  },
  {
   "cell_type": "code",
   "execution_count": 13,
   "metadata": {
    "ExecuteTime": {
     "end_time": "2021-06-02T16:24:15.094575Z",
     "start_time": "2021-06-02T16:24:15.053277Z"
    },
    "pycharm": {
     "name": "#%%\n"
    }
   },
   "outputs": [
    {
     "data": {
      "text/plain": "locality                      0\ntype_of_property              0\nsubtype_of_property       53527\nprice                         0\nnumber_of_rooms               0\narea                          0\nfully_equipped_kitchen        0\nfurnished                     0\nopen_fire                     0\nterrace                       0\nterrace_area              44353\ngarden                        0\ngarden_area               56259\nsurface_of_the_land       33790\nnumber_of_facades         32675\nswimming_pool                 0\nstate_of_the_building     28815\nprovince                      0\nregion                        0\ndtype: int64"
     },
     "execution_count": 13,
     "metadata": {},
     "output_type": "execute_result"
    }
   ],
   "source": [
    "#g.furnished with bfill algorithm as there is no way we can find and we can fill by province the value\n",
    "immoweb_logicimmo.furnished.fillna(method='bfill',inplace=True)\n",
    "immoweb_logicimmo.furnished = np.where(immoweb_logicimmo.furnished.isna()&immoweb_logicimmo.province =='Brussels',1,immoweb_logicimmo.furnished)\n",
    "immoweb_logicimmo.furnished.fillna(0,inplace=True)\n",
    "immoweb_logicimmo.isna().sum()"
   ]
  },
  {
   "cell_type": "code",
   "execution_count": 14,
   "metadata": {
    "ExecuteTime": {
     "end_time": "2021-06-02T16:24:16.932362Z",
     "start_time": "2021-06-02T16:24:16.896925Z"
    },
    "pycharm": {
     "name": "#%%\n"
    }
   },
   "outputs": [],
   "source": [
    "#h Surface of the land is calculated depending on area+10% and type of property apartment have 0\n",
    "immoweb_logicimmo[(immoweb_logicimmo.surface_of_the_land.isna()) & (immoweb_logicimmo.type_of_property=='house')][['type_of_property','surface_of_the_land']]\n",
    "immoweb_logicimmo.surface_of_the_land = np.where(((immoweb_logicimmo.surface_of_the_land.isna()) & (immoweb_logicimmo.type_of_property =='house')),(immoweb_logicimmo.area*1.10),immoweb_logicimmo.surface_of_the_land)\n",
    "immoweb_logicimmo.surface_of_the_land = np.where(((immoweb_logicimmo.surface_of_the_land.isna()) & (immoweb_logicimmo.type_of_property =='apartment')),0.0,immoweb_logicimmo.surface_of_the_land)"
   ]
  },
  {
   "cell_type": "code",
   "execution_count": 15,
   "metadata": {
    "ExecuteTime": {
     "end_time": "2021-06-02T16:24:22.822017Z",
     "start_time": "2021-06-02T16:24:22.810860Z"
    },
    "pycharm": {
     "name": "#%%\n"
    }
   },
   "outputs": [],
   "source": [
    "#h. Terrace is  there and terrace area is na and filled up with 10% area\n",
    "average_terrace_area= immoweb_logicimmo.terrace_area.mean()/10\n",
    "immoweb_logicimmo.terrace_area= np.where(immoweb_logicimmo.terrace ==0.0,0.0,immoweb_logicimmo.terrace_area)\n",
    "immoweb_logicimmo.terrace_area= np.where(((immoweb_logicimmo.terrace_area.isna())&(immoweb_logicimmo.terrace ==1.0)),(immoweb_logicimmo.area*0.10),immoweb_logicimmo.terrace_area)"
   ]
  },
  {
   "cell_type": "code",
   "execution_count": 16,
   "metadata": {
    "ExecuteTime": {
     "end_time": "2021-06-02T16:24:23.652386Z",
     "start_time": "2021-06-02T16:24:23.643624Z"
    },
    "pycharm": {
     "name": "#%%\n"
    }
   },
   "outputs": [],
   "source": [
    "#i. garden area is depeding on surface area of land\n",
    "immoweb_logicimmo.garden_area= np.where(immoweb_logicimmo.garden ==0.0,0.0,immoweb_logicimmo.garden_area)\n",
    "immoweb_logicimmo.garden_area= np.where(((immoweb_logicimmo.garden_area.isna())&(immoweb_logicimmo.garden ==1.0)),(immoweb_logicimmo.surface_of_the_land*0.10),immoweb_logicimmo.garden_area)"
   ]
  },
  {
   "cell_type": "code",
   "execution_count": 17,
   "metadata": {
    "ExecuteTime": {
     "end_time": "2021-06-02T16:24:24.707895Z",
     "start_time": "2021-06-02T16:24:24.687624Z"
    },
    "pycharm": {
     "name": "#%%\n"
    }
   },
   "outputs": [],
   "source": [
    "#j number of facades are difficult to calculate so took average but they make no value to prediction?\n",
    "average_number_of_facades = immoweb_logicimmo.number_of_facades.median()\n",
    "immoweb_logicimmo[['type_of_property','number_of_facades']]\n",
    "immoweb_logicimmo.number_of_facades = np.where((immoweb_logicimmo.number_of_facades.isna()) & (immoweb_logicimmo.type_of_property=='house'),average_number_of_facades,0)"
   ]
  },
  {
   "cell_type": "code",
   "execution_count": 18,
   "metadata": {
    "ExecuteTime": {
     "end_time": "2021-06-02T16:24:25.717128Z",
     "start_time": "2021-06-02T16:24:25.675136Z"
    },
    "pycharm": {
     "name": "#%%\n"
    }
   },
   "outputs": [
    {
     "data": {
      "text/plain": "locality                      0\ntype_of_property              0\nsubtype_of_property       53527\nprice                         0\nnumber_of_rooms               0\narea                          0\nfully_equipped_kitchen        0\nfurnished                     0\nopen_fire                     0\nterrace                       0\nterrace_area                  0\ngarden                        0\ngarden_area                   0\nsurface_of_the_land           0\nnumber_of_facades             0\nswimming_pool                 0\nstate_of_the_building         0\nprovince                      0\nregion                        0\ndtype: int64"
     },
     "execution_count": 18,
     "metadata": {},
     "output_type": "execute_result"
    }
   ],
   "source": [
    "#k.good,new,to reovate,oldandgood\n",
    "immoweb_logicimmo.state_of_the_building.unique()\n",
    "immoweb_logicimmo.state_of_the_building.fillna('old',inplace=True)\n",
    "immoweb_logicimmo.isna().sum()"
   ]
  },
  {
   "cell_type": "code",
   "execution_count": 19,
   "metadata": {
    "ExecuteTime": {
     "end_time": "2021-06-02T16:24:26.767804Z",
     "start_time": "2021-06-02T16:24:26.741832Z"
    },
    "pycharm": {
     "name": "#%%\n"
    }
   },
   "outputs": [],
   "source": [
    "#Imputation from sklearn for filling up nan values in  Dataframe columns can be used.....need to be tried.\n",
    "#OneHotEncoder from sklearn for categorical columns  to divide them\n",
    "# For type_of_property\n",
    "for property_type in (immoweb_logicimmo.type_of_property.unique()):\n",
    "    immoweb_logicimmo[property_type] = np.where(immoweb_logicimmo.type_of_property == property_type, 1, 0)"
   ]
  },
  {
   "cell_type": "code",
   "execution_count": 20,
   "metadata": {
    "ExecuteTime": {
     "end_time": "2021-06-02T16:24:27.750262Z",
     "start_time": "2021-06-02T16:24:27.696984Z"
    },
    "pycharm": {
     "name": "#%%\n"
    }
   },
   "outputs": [],
   "source": [
    "# Creating numeric column for type_of_property by having the value but not good as they are given priority  using price\n",
    "mean_price_by_type = immoweb_logicimmo[['type_of_property', 'price']].groupby('type_of_property').mean('price')\n",
    "mapping_score_ = round(mean_price_by_type['price'].sort_values(ascending=False) / 1000000, 2)\n",
    "mapping_score_type = dict(mapping_score_)\n",
    "immoweb_logicimmo['type_of_property_num'] = immoweb_logicimmo['type_of_property'].apply(lambda x: mapping_score_type.get(x, 0))"
   ]
  },
  {
   "cell_type": "code",
   "execution_count": 21,
   "metadata": {
    "ExecuteTime": {
     "end_time": "2021-06-02T16:24:29.289786Z",
     "start_time": "2021-06-02T16:24:29.250177Z"
    },
    "pycharm": {
     "name": "#%%\n"
    }
   },
   "outputs": [],
   "source": [
    "# For state_of_the_building create new columns\n",
    "for buildingstate in (immoweb_logicimmo.state_of_the_building.unique()):\n",
    "    immoweb_logicimmo[buildingstate] = np.where(immoweb_logicimmo.state_of_the_building == buildingstate, 1, 0)"
   ]
  },
  {
   "cell_type": "code",
   "execution_count": 22,
   "metadata": {
    "ExecuteTime": {
     "end_time": "2021-06-02T16:24:30.155192Z",
     "start_time": "2021-06-02T16:24:30.067648Z"
    },
    "pycharm": {
     "name": "#%%\n"
    }
   },
   "outputs": [],
   "source": [
    "# For province creating new columns\n",
    "for province in (immoweb_logicimmo.province.unique()):\n",
    "    immoweb_logicimmo[province] = np.where(immoweb_logicimmo.province == province, 1, 0)"
   ]
  },
  {
   "cell_type": "code",
   "execution_count": 23,
   "metadata": {
    "ExecuteTime": {
     "end_time": "2021-06-02T16:24:31.613703Z",
     "start_time": "2021-06-02T16:24:31.526108Z"
    },
    "pycharm": {
     "name": "#%%\n"
    }
   },
   "outputs": [],
   "source": [
    "# create new numeric column for region also depends on price given priority and score\n",
    "mean_price_by_province = immoweb_logicimmo[['province', 'price']].groupby('province').mean('price')\n",
    "mapping_score = round(mean_price_by_province['price'].sort_values(ascending=False) / 1000000, 2)\n",
    "mapping_score_province = dict(mapping_score)\n",
    "immoweb_logicimmo['province_num'] = immoweb_logicimmo['province'].apply(lambda x: mapping_score_province.get(x, 0))"
   ]
  },
  {
   "cell_type": "code",
   "execution_count": 24,
   "metadata": {
    "ExecuteTime": {
     "end_time": "2021-06-02T16:24:32.730931Z",
     "start_time": "2021-06-02T16:24:32.696947Z"
    },
    "pycharm": {
     "name": "#%%\n"
    }
   },
   "outputs": [],
   "source": [
    "# For region create categorical columns\n",
    "for region in (immoweb_logicimmo.region.unique()):\n",
    "    immoweb_logicimmo[region] = np.where(immoweb_logicimmo.region == region, 1, 0)"
   ]
  },
  {
   "cell_type": "code",
   "execution_count": 25,
   "metadata": {
    "ExecuteTime": {
     "end_time": "2021-06-02T16:24:33.627966Z",
     "start_time": "2021-06-02T16:24:33.546502Z"
    },
    "pycharm": {
     "name": "#%%\n"
    }
   },
   "outputs": [],
   "source": [
    "# create new numerical column for region depends on price\n",
    "mean_price_by_region = immoweb_logicimmo[['region', 'price']].groupby('region').mean('price')\n",
    "mapping_score_r = round(mean_price_by_region['price'].sort_values(ascending=False) / 1000000, 2)\n",
    "mapping_score_region = dict(mapping_score_r)\n",
    "immoweb_logicimmo['region_num'] = immoweb_logicimmo['region'].apply(lambda x: mapping_score_region.get(x, 0))"
   ]
  },
  {
   "cell_type": "code",
   "execution_count": 26,
   "metadata": {
    "ExecuteTime": {
     "end_time": "2021-06-02T16:24:34.625632Z",
     "start_time": "2021-06-02T16:24:34.622102Z"
    },
    "pycharm": {
     "name": "#%%\n"
    }
   },
   "outputs": [],
   "source": [
    "# creating new  categorical columns for locality\n",
    "# postal_codes =pd.read_csv('./postal_codes.csv',sep=\";\")\n",
    "# codes_value = postal_codes.iloc[:,0:2].to_dict(orient='split').get('data')\n",
    "# pcode_lname ={}\n",
    "# for item in codes_value:\n",
    "#     pcode_lname[item[0]]= item[1]\n",
    "# #pcode_lname"
   ]
  },
  {
   "cell_type": "code",
   "execution_count": 27,
   "metadata": {
    "ExecuteTime": {
     "end_time": "2021-06-02T16:24:36.567170Z",
     "start_time": "2021-06-02T16:24:36.563758Z"
    },
    "pycharm": {
     "name": "#%%\n"
    }
   },
   "outputs": [],
   "source": [
    "# # For Locality 1000 columns not working on my machine due to lot of columns so stopped using them\n",
    "# for locality in (immoweb_logicimmo.locality.unique()):\n",
    "#     immoweb_logicimmo[pcode_lname[locality]] = np.where(immoweb_logicimmo.locality == locality, 1, 0)"
   ]
  },
  {
   "cell_type": "code",
   "execution_count": 28,
   "metadata": {
    "ExecuteTime": {
     "end_time": "2021-06-02T16:24:37.301009Z",
     "start_time": "2021-06-02T16:24:37.291639Z"
    },
    "pycharm": {
     "name": "#%%\n"
    }
   },
   "outputs": [],
   "source": [
    "#fill \n",
    "immoweb_logicimmo.subtype_of_property.fillna(\"house-apartment-sub\",inplace=True)"
   ]
  },
  {
   "cell_type": "code",
   "execution_count": 29,
   "metadata": {
    "ExecuteTime": {
     "end_time": "2021-06-02T16:24:38.234341Z",
     "start_time": "2021-06-02T16:24:38.070129Z"
    },
    "pycharm": {
     "name": "#%%\n"
    }
   },
   "outputs": [],
   "source": [
    "# For Sub type of property create categorical columns\n",
    "for subtype_of_property in (immoweb_logicimmo.subtype_of_property.unique()):\n",
    "    immoweb_logicimmo[subtype_of_property] = np.where(immoweb_logicimmo.subtype_of_property == subtype_of_property, 1, 0)"
   ]
  },
  {
   "cell_type": "code",
   "execution_count": 30,
   "metadata": {
    "ExecuteTime": {
     "end_time": "2021-06-02T16:24:38.890399Z",
     "start_time": "2021-06-02T16:24:38.885619Z"
    },
    "pycharm": {
     "name": "#%%\n"
    }
   },
   "outputs": [],
   "source": [
    "# replace space in columns newly created with '_'\n",
    "immoweb_logicimmo.columns = immoweb_logicimmo.columns.str.replace(' ','_')"
   ]
  },
  {
   "cell_type": "code",
   "execution_count": 31,
   "metadata": {},
   "outputs": [
    {
     "data": {
      "text/plain": "[]"
     },
     "execution_count": 31,
     "metadata": {},
     "output_type": "execute_result"
    },
    {
     "data": {
      "text/plain": "<Figure size 720x2160 with 3 Axes>",
      "image/png": "[encoded data removed]"
     },
     "metadata": {
      "needs_background": "light"
     },
     "output_type": "display_data"
    }
   ],
   "source": [
    "# Trying to find the rows having effect on prediction\n",
    "plt.figure(figsize = (10 , 30))\n",
    "plt.subplot(131)\n",
    "sns.boxplot(data=immoweb_logicimmo[['price']])\n",
    "plt.subplot(132)\n",
    "sns.boxplot(data=immoweb_logicimmo[['number_of_rooms']])\n",
    "plt.subplot(133)\n",
    "sns.boxplot(data=immoweb_logicimmo[['area']])\n",
    "plt.xticks(rotation=-90);\n",
    "plt.plot()"
   ]
  },
  {
   "cell_type": "code",
   "execution_count": 32,
   "metadata": {
    "ExecuteTime": {
     "end_time": "2021-06-02T16:24:39.788210Z",
     "start_time": "2021-06-02T16:24:39.631945Z"
    },
    "pycharm": {
     "name": "#%%\n"
    }
   },
   "outputs": [],
   "source": [
    "# depending on above result we change the rows to be taken\n",
    "immoweb_logicimmo.drop(immoweb_logicimmo[immoweb_logicimmo.price >4500000].index,inplace=True)\n",
    "immoweb_logicimmo.drop(immoweb_logicimmo[immoweb_logicimmo.number_of_rooms >21].index,inplace=True)\n",
    "immoweb_logicimmo.drop(immoweb_logicimmo[immoweb_logicimmo.area>1750].index,inplace=True)"
   ]
  },
  {
   "cell_type": "code",
   "execution_count": 33,
   "metadata": {
    "ExecuteTime": {
     "end_time": "2021-06-02T16:24:40.905160Z",
     "start_time": "2021-06-02T16:24:40.277524Z"
    },
    "pycharm": {
     "name": "#%%\n"
    }
   },
   "outputs": [
    {
     "data": {
      "text/plain": "          locality     price  number_of_rooms      area  \\\nlocality  1.000000 -0.139319        -0.019617 -0.047979   \nprice    -0.139319  1.000000         0.404954  0.584071   \n\n          fully_equipped_kitchen  furnished  open_fire   terrace  \\\nlocality               -0.127027   0.014946  -0.067527 -0.125786   \nprice                   0.139058  -0.014478   0.177384  0.068904   \n\n          terrace_area    garden  garden_area  surface_of_the_land  \\\nlocality     -0.037417 -0.010128    -0.011220            -0.014287   \nprice         0.102946  0.071289     0.064939             0.162435   \n\n          number_of_facades  swimming_pool  apartment     house  \\\nlocality           0.149837      -0.030462  -0.103840  0.103840   \nprice              0.046289       0.207482  -0.102084  0.102084   \n\n          type_of_property_num       old      good       new  to_renovate  \\\nlocality              0.103840  0.108745 -0.075755 -0.059528    -0.026656   \nprice                 0.102084 -0.051421  0.097808  0.000074    -0.077295   \n\n           Antwerp  Vlaams-Brabant  West-Vlanderen     Liège  Oost-Vlanderen  \\\nlocality -0.348841       -0.292472        0.534003 -0.109527        0.493822   \nprice     0.030447        0.045584        0.016887 -0.098180       -0.011549   \n\n             Namur  Brussels   Hainaut  Luxembourg  Brabant_Wallon   Limburg  \\\nlocality -0.006780 -0.495972  0.205547    0.060953       -0.283516 -0.122955   \nprice    -0.048082  0.209514 -0.147892   -0.034126        0.034589 -0.031093   \n\n          province_num    Vlaams  Wallonie  Brussels_Capital  region_num  \\\nlocality     -0.517438  0.344741 -0.032823         -0.495972   -0.361412   \nprice         0.273863  0.036978 -0.180380          0.209514    0.248170   \n\n          house-apartment-sub  penthouse    studio    duplex      loft  \\\nlocality             0.091394   -0.05615 -0.032137 -0.045125 -0.013001   \nprice               -0.203643    0.10214 -0.076155  0.009870  0.028870   \n\n          ground_floor  triplex  building   student  investment_property  \\\nlocality     -0.054001 -0.02159 -0.042427 -0.023186            -0.000472   \nprice        -0.026241  0.00937  0.076942 -0.027764             0.001285   \n\n            villa   mansion     mixed  apartments_row  farmhouse    castle  \\\nlocality -0.01342 -0.005784  0.002889        0.041391   0.003271  0.005659   \nprice     0.23325  0.084367  0.007869       -0.000961   0.061007  0.098249   \n\n             floor      town  service_flat   cottage     manor  pavilion  \nlocality -0.005053 -0.014264      0.017243  0.013091 -0.000264 -0.003296  \nprice    -0.001215 -0.003149     -0.025953  0.036360  0.043704  0.005524  ",
      "text/html": "<div>\n<style scoped>\n    .dataframe tbody tr th:only-of-type {\n        vertical-align: middle;\n    }\n\n    .dataframe tbody tr th {\n        vertical-align: top;\n    }\n\n    .dataframe thead th {\n        text-align: right;\n    }\n</style>\n<table border=\"1\" class=\"dataframe\">\n  <thead>\n    <tr style=\"text-align: right;\">\n      <th></th>\n      <th>locality</th>\n      <th>price</th>\n      <th>number_of_rooms</th>\n      <th>area</th>\n      <th>fully_equipped_kitchen</th>\n      <th>furnished</th>\n      <th>open_fire</th>\n      <th>terrace</th>\n      <th>terrace_area</th>\n      <th>garden</th>\n      <th>garden_area</th>\n      <th>surface_of_the_land</th>\n      <th>number_of_facades</th>\n      <th>swimming_pool</th>\n      <th>apartment</th>\n      <th>house</th>\n      <th>type_of_property_num</th>\n      <th>old</th>\n      <th>good</th>\n      <th>new</th>\n      <th>to_renovate</th>\n      <th>Antwerp</th>\n      <th>Vlaams-Brabant</th>\n      <th>West-Vlanderen</th>\n      <th>Liège</th>\n      <th>Oost-Vlanderen</th>\n      <th>Namur</th>\n      <th>Brussels</th>\n      <th>Hainaut</th>\n      <th>Luxembourg</th>\n      <th>Brabant_Wallon</th>\n      <th>Limburg</th>\n      <th>province_num</th>\n      <th>Vlaams</th>\n      <th>Wallonie</th>\n      <th>Brussels_Capital</th>\n      <th>region_num</th>\n      <th>house-apartment-sub</th>\n      <th>penthouse</th>\n      <th>studio</th>\n      <th>duplex</th>\n      <th>loft</th>\n      <th>ground_floor</th>\n      <th>triplex</th>\n      <th>building</th>\n      <th>student</th>\n      <th>investment_property</th>\n      <th>villa</th>\n      <th>mansion</th>\n      <th>mixed</th>\n      <th>apartments_row</th>\n      <th>farmhouse</th>\n      <th>castle</th>\n      <th>floor</th>\n      <th>town</th>\n      <th>service_flat</th>\n      <th>cottage</th>\n      <th>manor</th>\n      <th>pavilion</th>\n    </tr>\n  </thead>\n  <tbody>\n    <tr>\n      <th>locality</th>\n      <td>1.000000</td>\n      <td>-0.139319</td>\n      <td>-0.019617</td>\n      <td>-0.047979</td>\n      <td>-0.127027</td>\n      <td>0.014946</td>\n      <td>-0.067527</td>\n      <td>-0.125786</td>\n      <td>-0.037417</td>\n      <td>-0.010128</td>\n      <td>-0.011220</td>\n      <td>-0.014287</td>\n      <td>0.149837</td>\n      <td>-0.030462</td>\n      <td>-0.103840</td>\n      <td>0.103840</td>\n      <td>0.103840</td>\n      <td>0.108745</td>\n      <td>-0.075755</td>\n      <td>-0.059528</td>\n      <td>-0.026656</td>\n      <td>-0.348841</td>\n      <td>-0.292472</td>\n      <td>0.534003</td>\n      <td>-0.109527</td>\n      <td>0.493822</td>\n      <td>-0.006780</td>\n      <td>-0.495972</td>\n      <td>0.205547</td>\n      <td>0.060953</td>\n      <td>-0.283516</td>\n      <td>-0.122955</td>\n      <td>-0.517438</td>\n      <td>0.344741</td>\n      <td>-0.032823</td>\n      <td>-0.495972</td>\n      <td>-0.361412</td>\n      <td>0.091394</td>\n      <td>-0.05615</td>\n      <td>-0.032137</td>\n      <td>-0.045125</td>\n      <td>-0.013001</td>\n      <td>-0.054001</td>\n      <td>-0.02159</td>\n      <td>-0.042427</td>\n      <td>-0.023186</td>\n      <td>-0.000472</td>\n      <td>-0.01342</td>\n      <td>-0.005784</td>\n      <td>0.002889</td>\n      <td>0.041391</td>\n      <td>0.003271</td>\n      <td>0.005659</td>\n      <td>-0.005053</td>\n      <td>-0.014264</td>\n      <td>0.017243</td>\n      <td>0.013091</td>\n      <td>-0.000264</td>\n      <td>-0.003296</td>\n    </tr>\n    <tr>\n      <th>price</th>\n      <td>-0.139319</td>\n      <td>1.000000</td>\n      <td>0.404954</td>\n      <td>0.584071</td>\n      <td>0.139058</td>\n      <td>-0.014478</td>\n      <td>0.177384</td>\n      <td>0.068904</td>\n      <td>0.102946</td>\n      <td>0.071289</td>\n      <td>0.064939</td>\n      <td>0.162435</td>\n      <td>0.046289</td>\n      <td>0.207482</td>\n      <td>-0.102084</td>\n      <td>0.102084</td>\n      <td>0.102084</td>\n      <td>-0.051421</td>\n      <td>0.097808</td>\n      <td>0.000074</td>\n      <td>-0.077295</td>\n      <td>0.030447</td>\n      <td>0.045584</td>\n      <td>0.016887</td>\n      <td>-0.098180</td>\n      <td>-0.011549</td>\n      <td>-0.048082</td>\n      <td>0.209514</td>\n      <td>-0.147892</td>\n      <td>-0.034126</td>\n      <td>0.034589</td>\n      <td>-0.031093</td>\n      <td>0.273863</td>\n      <td>0.036978</td>\n      <td>-0.180380</td>\n      <td>0.209514</td>\n      <td>0.248170</td>\n      <td>-0.203643</td>\n      <td>0.10214</td>\n      <td>-0.076155</td>\n      <td>0.009870</td>\n      <td>0.028870</td>\n      <td>-0.026241</td>\n      <td>0.00937</td>\n      <td>0.076942</td>\n      <td>-0.027764</td>\n      <td>0.001285</td>\n      <td>0.23325</td>\n      <td>0.084367</td>\n      <td>0.007869</td>\n      <td>-0.000961</td>\n      <td>0.061007</td>\n      <td>0.098249</td>\n      <td>-0.001215</td>\n      <td>-0.003149</td>\n      <td>-0.025953</td>\n      <td>0.036360</td>\n      <td>0.043704</td>\n      <td>0.005524</td>\n    </tr>\n  </tbody>\n</table>\n</div>"
     },
     "execution_count": 33,
     "metadata": {},
     "output_type": "execute_result"
    }
   ],
   "source": [
    "# Find correlation\n",
    "immoweb_logicimmo.corr().head(2)"
   ]
  },
  {
   "cell_type": "code",
   "execution_count": 34,
   "metadata": {
    "ExecuteTime": {
     "end_time": "2021-06-02T16:24:43.017705Z",
     "start_time": "2021-06-02T16:24:41.290887Z"
    },
    "pycharm": {
     "name": "#%%\n"
    }
   },
   "outputs": [],
   "source": [
    "# export to csv the data\n",
    "immoweb_logicimmo.to_csv('./immo_logicimmo_train.csv')"
   ]
  },
  {
   "cell_type": "code",
   "execution_count": 35,
   "metadata": {
    "ExecuteTime": {
     "end_time": "2021-06-02T16:24:43.442465Z",
     "start_time": "2021-06-02T16:24:43.431901Z"
    },
    "pycharm": {
     "name": "#%%\n"
    }
   },
   "outputs": [
    {
     "data": {
      "text/plain": "(66886, 64)"
     },
     "execution_count": 35,
     "metadata": {},
     "output_type": "execute_result"
    }
   ],
   "source": [
    "immoweb_logicimmo.shape"
   ]
  },
  {
   "cell_type": "code",
   "execution_count": 36,
   "metadata": {
    "ExecuteTime": {
     "end_time": "2021-06-02T16:24:43.870302Z",
     "start_time": "2021-06-02T16:24:43.861378Z"
    },
    "pycharm": {
     "name": "#%%\n"
    }
   },
   "outputs": [
    {
     "data": {
      "text/plain": "Index(['locality', 'type_of_property', 'subtype_of_property', 'price',\n       'number_of_rooms', 'area', 'fully_equipped_kitchen', 'furnished',\n       'open_fire', 'terrace', 'terrace_area', 'garden', 'garden_area',\n       'surface_of_the_land', 'number_of_facades', 'swimming_pool',\n       'state_of_the_building', 'province', 'region', 'apartment', 'house',\n       'type_of_property_num', 'old', 'good', 'new', 'to_renovate', 'Antwerp',\n       'Vlaams-Brabant', 'West-Vlanderen', 'Liège', 'Oost-Vlanderen', 'Namur',\n       'Brussels', 'Hainaut', 'Luxembourg', 'Brabant_Wallon', 'Limburg',\n       'province_num', 'Vlaams', 'Wallonie', 'Brussels_Capital', 'region_num',\n       'house-apartment-sub', 'penthouse', 'studio', 'duplex', 'loft',\n       'ground_floor', 'triplex', 'building', 'student', 'investment_property',\n       'villa', 'mansion', 'mixed', 'apartments_row', 'farmhouse', 'castle',\n       'floor', 'town', 'service_flat', 'cottage', 'manor', 'pavilion'],\n      dtype='object')"
     },
     "execution_count": 36,
     "metadata": {},
     "output_type": "execute_result"
    }
   ],
   "source": [
    "# To get features and target needed\n",
    "immoweb_logicimmo.columns"
   ]
  },
  {
   "cell_type": "code",
   "execution_count": 37,
   "metadata": {
    "ExecuteTime": {
     "end_time": "2021-06-02T16:24:44.376511Z",
     "start_time": "2021-06-02T16:24:44.346923Z"
    },
    "pycharm": {
     "name": "#%%\n"
    }
   },
   "outputs": [],
   "source": [
    "#Divide X and y\n",
    "X= immoweb_logicimmo[['number_of_rooms', 'area', 'fully_equipped_kitchen',\n",
    "       'open_fire', 'terrace', 'terrace_area', 'garden', 'garden_area',\n",
    "       'surface_of_the_land', 'swimming_pool', 'apartment', 'house',\n",
    "       'old', 'good', 'new', 'to_renovate', 'Antwerp',\n",
    "       'Vlaams-Brabant', 'West-Vlanderen', 'Liège', 'Oost-Vlanderen', 'Namur',\n",
    "       'Brussels', 'Hainaut', 'Luxembourg', 'Brabant_Wallon', 'Limburg',\n",
    "       'Vlaams', 'Wallonie', 'Brussels_Capital',\n",
    "       'house-apartment-sub', 'penthouse', 'studio', 'duplex', 'loft',\n",
    "       'ground_floor', 'triplex', 'building', 'student', 'mansion', 'villa',\n",
    "       'mixed', 'apartments_row', 'farmhouse', 'castle', 'floor', 'town',\n",
    "       'service_flat', 'cottage', 'manor', 'pavilion']]\n",
    "y =immoweb_logicimmo['price']"
   ]
  },
  {
   "cell_type": "code",
   "execution_count": 38,
   "metadata": {
    "ExecuteTime": {
     "end_time": "2021-06-02T16:24:44.818386Z",
     "start_time": "2021-06-02T16:24:44.763659Z"
    },
    "pycharm": {
     "name": "#%%\n"
    }
   },
   "outputs": [],
   "source": [
    "# Train the data by dividing the train ad test\n",
    "\n",
    "X_train, X_test, y_train, y_test = train_test_split(X,y,test_size=0.2)"
   ]
  },
  {
   "cell_type": "code",
   "execution_count": 39,
   "metadata": {
    "ExecuteTime": {
     "end_time": "2021-06-02T16:24:50.742504Z",
     "start_time": "2021-06-02T16:24:50.737666Z"
    },
    "pycharm": {
     "name": "#%%\n"
    }
   },
   "outputs": [],
   "source": [
    "# Simple Linear Regression  and pipeline with PolynomialFeatures of degree\n",
    "def score_model(X,y):\n",
    "    linear_regr = LinearRegression()\n",
    "    pipeline = make_pipeline(PolynomialFeatures(degree=2),LinearRegression())\n",
    "    model = linear_regr.fit(X,y)\n",
    "    model_pipeline = pipeline.fit(X,y)\n",
    "    return  model.score(X_test,y_test),model_pipeline.score(X_test,y_test)"
   ]
  },
  {
   "cell_type": "code",
   "execution_count": 40,
   "metadata": {
    "ExecuteTime": {
     "end_time": "2021-06-02T16:25:09.577543Z",
     "start_time": "2021-06-02T16:24:57.442195Z"
    },
    "pycharm": {
     "name": "#%%\n"
    }
   },
   "outputs": [
    {
     "data": {
      "text/plain": "(0.46618943457073236, -0.328274481197562)"
     },
     "execution_count": 40,
     "metadata": {},
     "output_type": "execute_result"
    }
   ],
   "source": [
    "# real data\n",
    "score_model(X_train,y_train)"
   ]
  },
  {
   "cell_type": "code",
   "execution_count": 41,
   "metadata": {
    "ExecuteTime": {
     "end_time": "2021-06-02T16:25:50.632416Z",
     "start_time": "2021-06-02T16:25:50.623339Z"
    },
    "pycharm": {
     "name": "#%%\n"
    }
   },
   "outputs": [],
   "source": [
    "# XGB Booster\n",
    "def xgbscore(X_train,y_train):\n",
    "    xgb = xgboost.XGBRegressor(n_estimators=1000, learning_rate=0.01, gamma=0, subsample=0.75,colsample_bytree=1,\n",
    "                               max_depth=7)\n",
    "    print(xgb.fit(X_train,y_train))\n",
    "    return xgb.score(X_train,y_train),xgb.score(X_test,y_test)"
   ]
  },
  {
   "cell_type": "code",
   "execution_count": null,
   "metadata": {
    "ExecuteTime": {
     "end_time": "2021-06-02T16:28:01.834501Z",
     "start_time": "2021-06-02T16:25:50.965153Z"
    },
    "pycharm": {
     "is_executing": true,
     "name": "#%%\n"
    }
   },
   "outputs": [],
   "source": [
    "# real data\n",
    "xgbscore(X_train,y_train)"
   ]
  },
  {
   "cell_type": "code",
   "execution_count": null,
   "metadata": {
    "pycharm": {
     "is_executing": true,
     "name": "#%%\n"
    }
   },
   "outputs": [],
   "source": [
    "# Plot the relation betweeen features and target using lassocv\n",
    "lasso = LassoCV().fit(preprocessing.scale(X), y)\n",
    "importance = np.abs(lasso.coef_)\n",
    "feature_names = np.array(X.columns)\n",
    "plt.figure(figsize=(10,5))\n",
    "plt.bar(height=importance, x=feature_names)\n",
    "plt.title(\"Feature importances via coefficients\")\n",
    "plt.xticks(rotation =90)\n",
    "plt.xlabel(\"Features\")\n",
    "plt.show()"
   ]
  }
 ],
 "metadata": {
  "hide_input": false,
  "kernelspec": {
   "display_name": "Python 3",
   "language": "python",
   "name": "python3"
  },
  "language_info": {
   "codemirror_mode": {
    "name": "ipython",
    "version": 3
   },
   "file_extension": ".py",
   "mimetype": "text/x-python",
   "name": "python",
   "nbconvert_exporter": "python",
   "pygments_lexer": "ipython3",
   "version": "3.8.2"
  },
  "nbTranslate": {
   "displayLangs": [
    "*"
   ],
   "hotkey": "alt-t",
   "langInMainMenu": true,
   "sourceLang": "en",
   "targetLang": "fr",
   "useGoogleTranslate": true
  },
  "toc": {
   "base_numbering": 1,
   "nav_menu": {},
   "number_sections": true,
   "sideBar": true,
   "skip_h1_title": false,
   "title_cell": "Table of Contents",
   "title_sidebar": "Contents",
   "toc_cell": false,
   "toc_position": {},
   "toc_section_display": true,
   "toc_window_display": false
  },
  "varInspector": {
   "cols": {
    "lenName": 16,
    "lenType": 16,
    "lenVar": 40
   },
   "kernels_config": {
    "python": {
     "delete_cmd_postfix": "",
     "delete_cmd_prefix": "del ",
     "library": "var_list.py",
     "varRefreshCmd": "print(var_dic_list())"
    },
    "r": {
     "delete_cmd_postfix": ") ",
     "delete_cmd_prefix": "rm(",
     "library": "var_list.r",
     "varRefreshCmd": "cat(var_dic_list()) "
    }
   },
   "types_to_exclude": [
    "module",
    "function",
    "builtin_function_or_method",
    "instance",
    "_Feature"
   ],
   "window_display": false
  }
 },
 "nbformat": 4,
 "nbformat_minor": 1
}