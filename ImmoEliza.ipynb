{
 "cells": [
  {
   "cell_type": "markdown",
   "metadata": {},
   "source": [
    "# The Mission\n",
    "The real estate company \"ImmoEliza\" ask you to create a machine learning model to predict prices on Belgium's sales."
   ]
  },
  {
   "cell_type": "markdown",
   "metadata": {},
   "source": [
    "## Step 1 : Data Cleaning**\n",
    "You have collected your data, you have cleaned and analyze it a first time!\n",
    "So it's time to do some machine learning with it!\n",
    "\n",
    "But first, we have to prepare the data for machine learning.\n",
    "\n",
    "No duplicates\n",
    "No NANs\n",
    "No text data\n",
    "No features that have too strong correlation between them"
   ]
  },
  {
   "cell_type": "code",
   "execution_count": 1,
   "metadata": {
    "ExecuteTime": {
     "end_time": "2021-06-02T17:39:09.583992Z",
     "start_time": "2021-06-02T17:39:06.685749Z"
    },
    "pycharm": {
     "is_executing": true,
     "name": "#%%\n"
    }
   },
   "outputs": [],
   "source": [
    "# import module /library here\n",
    "import pandas as pd\n",
    "import numpy as np\n",
    "import seaborn as sns\n",
    "import matplotlib.pyplot as plt\n",
    "import xgboost\n",
    "import os\n",
    "from sklearn.linear_model  import LinearRegression\n",
    "from sklearn.pipeline import make_pipeline\n",
    "from sklearn.preprocessing import PolynomialFeatures\n",
    "import matplotlib\n",
    "import matplotlib.pyplot as plt\n",
    "from sklearn.preprocessing import StandardScaler\n",
    "from sklearn.preprocessing import MinMaxScaler\n",
    "from sklearn import preprocessing\n",
    "from sklearn.linear_model import LassoCV\n",
    "from sklearn.model_selection import train_test_split\n"
   ]
  },
  {
   "cell_type": "code",
   "execution_count": 2,
   "metadata": {
    "ExecuteTime": {
     "end_time": "2021-06-02T17:39:09.596745Z",
     "start_time": "2021-06-02T17:39:09.587761Z"
    }
   },
   "outputs": [],
   "source": [
    "\n",
    "# To display plots in notebook\n",
    "%matplotlib inline\n",
    "# To display rows and columns\n",
    "pd.set_option('display.max_columns', 100)\n",
    "pd.set_option('display.max_rows', 500)"
   ]
  },
  {
   "cell_type": "code",
   "execution_count": 3,
   "metadata": {
    "ExecuteTime": {
     "end_time": "2021-06-02T17:39:16.549444Z",
     "start_time": "2021-06-02T17:39:09.601517Z"
    }
   },
   "outputs": [
    {
     "data": {
      "text/plain": [
       "(73510, 24)"
      ]
     },
     "execution_count": 3,
     "metadata": {},
     "output_type": "execute_result"
    }
   ],
   "source": [
    "# load data from csv\n",
    "immoweb_logicimmo = pd.read_csv('https://raw.githubusercontent.com/JulienAlardot/challenge-collecting-data/main/Data/database.csv', sep=',')\n",
    "immoweb_logicimmo.shape"
   ]
  },
  {
   "cell_type": "markdown",
   "metadata": {},
   "source": [
    "##### Change column names to lower case to make column names look same manner\n",
    "##### Drop columns not needed for Prediction or to find duplicate the  Unnamed: 0,Url and Source columns\n",
    "##### Replace space in column with \"_\" to make it access with data frame easily"
   ]
  },
  {
   "cell_type": "code",
   "execution_count": 4,
   "metadata": {
    "ExecuteTime": {
     "end_time": "2021-06-02T17:39:16.580581Z",
     "start_time": "2021-06-02T17:39:16.554488Z"
    },
    "pycharm": {
     "is_executing": true,
     "name": "#%%\n"
    }
   },
   "outputs": [
    {
     "data": {
      "text/plain": [
       "Index(['locality', 'type_of_property', 'subtype_of_property', 'price',\n",
       "       'type_of_sale', 'number_of_rooms', 'area', 'fully_equipped_kitchen',\n",
       "       'furnished', 'open_fire', 'terrace', 'terrace_area', 'garden',\n",
       "       'garden_area', 'surface_of_the_land',\n",
       "       'surface_area_of_the_plot_of_land', 'number_of_facades',\n",
       "       'swimming_pool', 'state_of_the_building', 'province', 'region'],\n",
       "      dtype='object')"
      ]
     },
     "execution_count": 4,
     "metadata": {},
     "output_type": "execute_result"
    }
   ],
   "source": [
    "immoweb_logicimmo.rename(str.lower,axis=1,inplace=True)\n",
    "immoweb_logicimmo.drop(columns=['unnamed: 0','url','source'], errors='ignore',inplace=True)\n",
    "immoweb_logicimmo.columns = immoweb_logicimmo.columns.str.replace(' ','_')\n",
    "immoweb_logicimmo.columns"
   ]
  },
  {
   "cell_type": "markdown",
   "metadata": {},
   "source": [
    "##### Find Duplicates and drop the duplicates"
   ]
  },
  {
   "cell_type": "code",
   "execution_count": 5,
   "metadata": {
    "ExecuteTime": {
     "end_time": "2021-06-02T17:39:16.879334Z",
     "start_time": "2021-06-02T17:39:16.594520Z"
    },
    "pycharm": {
     "is_executing": true,
     "name": "#%%\n"
    }
   },
   "outputs": [
    {
     "data": {
      "text/plain": [
       "(True, None, (73441, 21))"
      ]
     },
     "execution_count": 5,
     "metadata": {},
     "output_type": "execute_result"
    }
   ],
   "source": [
    "immoweb_logicimmo.duplicated().any(), immoweb_logicimmo.drop_duplicates(inplace=True),immoweb_logicimmo.shape\n",
    "#73510-73441 = 69 rows are duplicates"
   ]
  },
  {
   "cell_type": "markdown",
   "metadata": {},
   "source": [
    "##### Find Missing Values and Pertentage of them"
   ]
  },
  {
   "cell_type": "code",
   "execution_count": 6,
   "metadata": {
    "ExecuteTime": {
     "end_time": "2021-06-02T17:39:16.936011Z",
     "start_time": "2021-06-02T17:39:16.884276Z"
    },
    "pycharm": {
     "is_executing": true,
     "name": "#%%\n"
    }
   },
   "outputs": [
    {
     "data": {
      "text/plain": [
       "locality                             0.000000\n",
       "type_of_property                     0.517422\n",
       "subtype_of_property                 79.963508\n",
       "price                                1.367084\n",
       "type_of_sale                         0.000000\n",
       "number_of_rooms                      1.230920\n",
       "area                                15.325227\n",
       "fully_equipped_kitchen               0.000000\n",
       "furnished                           27.259977\n",
       "open_fire                            0.000000\n",
       "terrace                              0.000000\n",
       "terrace_area                        68.348743\n",
       "garden                               0.000000\n",
       "garden_area                         85.042415\n",
       "surface_of_the_land                 52.529241\n",
       "surface_area_of_the_plot_of_land    52.529241\n",
       "number_of_facades                   51.188028\n",
       "swimming_pool                        0.000000\n",
       "state_of_the_building               44.910881\n",
       "province                             0.000000\n",
       "region                               0.000000\n",
       "dtype: float64"
      ]
     },
     "execution_count": 6,
     "metadata": {},
     "output_type": "execute_result"
    }
   ],
   "source": [
    "count_of_missing_values_per_column = immoweb_logicimmo.isna().sum()\n",
    "percent_of_missing_values_in_dataset = (count_of_missing_values_per_column/immoweb_logicimmo.shape[0])*100\n",
    "percent_of_missing_values_in_dataset"
   ]
  },
  {
   "cell_type": "markdown",
   "metadata": {},
   "source": [
    "#####  Analyze to drop rows having missing values and columns having missing Values and find importance\n",
    "    a. Drop rows where subtype of property and type of property is na\n",
    "    b. Drop surface_area_of_the_plot_of_land as it is similar as surface_of_the_land\n",
    "    c. Drop rows of public sales and then drop type_of_sale column\n",
    "    d. Drop rows having price as nan/null\n",
    "    e. Number of rooms na and area na to be removed and then\n",
    "     other rows with a and 0 neds to be filled with average number of rooms\n",
    "    f.Replace Area with Average Area\n",
    "    g.Funrished column to be filled with bfill and then remaining with average value of the column\n",
    "    h Surface of the land is calculated depending on area+10% and type of property apartment have 0\n",
    "    i.Terrace area with average value for the rows which are having terrace and\n",
    "    j.Do the same as like terrace area to garden area as well\n",
    "    k.number of facades\n",
    "    l.state_of_building create new category to fill na\n",
    "    m. Divide type_of_property ,state_of_the_building,province and region in to new columns"
   ]
  },
  {
   "cell_type": "code",
   "execution_count": 7,
   "metadata": {
    "ExecuteTime": {
     "end_time": "2021-06-02T17:39:17.024185Z",
     "start_time": "2021-06-02T17:39:16.955307Z"
    },
    "pycharm": {
     "is_executing": true,
     "name": "#%%\n"
    }
   },
   "outputs": [
    {
     "data": {
      "text/plain": [
       "(Empty DataFrame\n",
       " Columns: [type_of_property, subtype_of_property]\n",
       " Index: [],\n",
       " (73133, 21))"
      ]
     },
     "execution_count": 7,
     "metadata": {},
     "output_type": "execute_result"
    }
   ],
   "source": [
    "# a. 308 rows having type_of_property na and sub type of property na ,so dropping them\n",
    "immoweb_logicimmo.dropna(subset=['type_of_property','subtype_of_property'] ,how='all',inplace=True)\n",
    "immoweb_logicimmo.type_of_property.fillna(method=\"bfill\",inplace=True)\n",
    "immoweb_logicimmo[immoweb_logicimmo.type_of_property.isna()][['type_of_property','subtype_of_property']],immoweb_logicimmo.shape"
   ]
  },
  {
   "cell_type": "code",
   "execution_count": 8,
   "metadata": {
    "ExecuteTime": {
     "end_time": "2021-06-02T17:39:17.061221Z",
     "start_time": "2021-06-02T17:39:17.032768Z"
    },
    "pycharm": {
     "is_executing": true,
     "name": "#%%\n"
    }
   },
   "outputs": [
    {
     "data": {
      "text/plain": [
       "(73133, 20)"
      ]
     },
     "execution_count": 8,
     "metadata": {},
     "output_type": "execute_result"
    }
   ],
   "source": [
    "# b.Drop surface_area_of_the_plot_of_land\n",
    "immoweb_logicimmo.drop(columns=['surface_area_of_the_plot_of_land'],inplace=True,errors='ignore')\n",
    "immoweb_logicimmo.shape"
   ]
  },
  {
   "cell_type": "code",
   "execution_count": 9,
   "metadata": {
    "ExecuteTime": {
     "end_time": "2021-06-02T17:39:17.122883Z",
     "start_time": "2021-06-02T17:39:17.073313Z"
    },
    "pycharm": {
     "is_executing": true,
     "name": "#%%\n"
    }
   },
   "outputs": [
    {
     "data": {
      "text/plain": [
       "(72089, 19)"
      ]
     },
     "execution_count": 9,
     "metadata": {},
     "output_type": "execute_result"
    }
   ],
   "source": [
    "# c. Drop public sale rows as it might have impact on prediction and then drop type of sale column as it is having single value\n",
    "immoweb_logicimmo.drop(immoweb_logicimmo[immoweb_logicimmo.type_of_sale =='public sale'].index,inplace=True, errors='ignore')\n",
    "immoweb_logicimmo.drop(columns=['type_of_sale'],inplace=True,errors='ignore')\n",
    "immoweb_logicimmo.shape"
   ]
  },
  {
   "cell_type": "code",
   "execution_count": 10,
   "metadata": {
    "ExecuteTime": {
     "end_time": "2021-06-02T17:39:17.187384Z",
     "start_time": "2021-06-02T17:39:17.129147Z"
    },
    "pycharm": {
     "is_executing": true,
     "name": "#%%\n"
    }
   },
   "outputs": [
    {
     "data": {
      "text/plain": [
       "(71094, 19)"
      ]
     },
     "execution_count": 10,
     "metadata": {},
     "output_type": "execute_result"
    }
   ],
   "source": [
    "#d.Drop rows having no price also few rows having area and price same drop them as well\n",
    "immoweb_logicimmo.drop(immoweb_logicimmo[immoweb_logicimmo.price.isna()].index,inplace=True)\n",
    "immoweb_logicimmo.drop(immoweb_logicimmo[immoweb_logicimmo.price ==immoweb_logicimmo.area].index,inplace=True)\n",
    "immoweb_logicimmo.shape"
   ]
  },
  {
   "cell_type": "code",
   "execution_count": 11,
   "metadata": {
    "ExecuteTime": {
     "end_time": "2021-06-02T17:39:17.258599Z",
     "start_time": "2021-06-02T17:39:17.200202Z"
    },
    "pycharm": {
     "is_executing": true,
     "name": "#%%\n"
    }
   },
   "outputs": [],
   "source": [
    "#e. Drop rows having Area and Number of rooms as na also number of rooms zero and no area, fill number of rooms na with\n",
    "# average of number of rooms to make consistent distribution across all records\n",
    "immoweb_logicimmo.dropna(subset=['area','number_of_rooms'] ,how='all',inplace=True)\n",
    "immoweb_logicimmo.drop(immoweb_logicimmo[(immoweb_logicimmo.number_of_rooms ==0.0)&(immoweb_logicimmo.area.isna())].index,inplace=True)\n",
    "average_number_of_rooms= round(immoweb_logicimmo.number_of_rooms.mean())\n",
    "immoweb_logicimmo.number_of_rooms.fillna(average_number_of_rooms,inplace=True)\n",
    "immoweb_logicimmo.number_of_rooms = np.where(immoweb_logicimmo.number_of_rooms ==0.0,average_number_of_rooms,immoweb_logicimmo.number_of_rooms )"
   ]
  },
  {
   "cell_type": "code",
   "execution_count": 12,
   "metadata": {
    "ExecuteTime": {
     "end_time": "2021-06-02T17:39:17.289509Z",
     "start_time": "2021-06-02T17:39:17.263443Z"
    },
    "pycharm": {
     "is_executing": true,
     "name": "#%%\n"
    }
   },
   "outputs": [],
   "source": [
    "#f.Area and surface_of_the_land are na then drop them\n",
    "immoweb_logicimmo.dropna(subset=['area','surface_of_the_land'] ,how='all',inplace=True)\n",
    "average_area= round(immoweb_logicimmo.area.mean())\n",
    "immoweb_logicimmo.area.fillna(average_area,inplace=True)"
   ]
  },
  {
   "cell_type": "code",
   "execution_count": 13,
   "metadata": {
    "ExecuteTime": {
     "end_time": "2021-06-02T17:39:17.347813Z",
     "start_time": "2021-06-02T17:39:17.294797Z"
    },
    "pycharm": {
     "is_executing": true,
     "name": "#%%\n"
    }
   },
   "outputs": [
    {
     "data": {
      "text/plain": [
       "locality                      0\n",
       "type_of_property              0\n",
       "subtype_of_property       53527\n",
       "price                         0\n",
       "number_of_rooms               0\n",
       "area                          0\n",
       "fully_equipped_kitchen        0\n",
       "furnished                     0\n",
       "open_fire                     0\n",
       "terrace                       0\n",
       "terrace_area              44353\n",
       "garden                        0\n",
       "garden_area               56259\n",
       "surface_of_the_land       33790\n",
       "number_of_facades         32675\n",
       "swimming_pool                 0\n",
       "state_of_the_building     28815\n",
       "province                      0\n",
       "region                        0\n",
       "dtype: int64"
      ]
     },
     "execution_count": 13,
     "metadata": {},
     "output_type": "execute_result"
    }
   ],
   "source": [
    "#g.furnished with bfill algorithm as there is no way we can find and we can fill by province the value\n",
    "immoweb_logicimmo.furnished.fillna(method='bfill',inplace=True)\n",
    "immoweb_logicimmo.furnished = np.where(immoweb_logicimmo.furnished.isna()&immoweb_logicimmo.province =='Brussels',1,immoweb_logicimmo.furnished)\n",
    "immoweb_logicimmo.furnished.fillna(0,inplace=True)\n",
    "immoweb_logicimmo.isna().sum()"
   ]
  },
  {
   "cell_type": "code",
   "execution_count": 14,
   "metadata": {
    "ExecuteTime": {
     "end_time": "2021-06-02T17:39:17.401545Z",
     "start_time": "2021-06-02T17:39:17.352313Z"
    },
    "pycharm": {
     "is_executing": true,
     "name": "#%%\n"
    }
   },
   "outputs": [],
   "source": [
    "#h Surface of the land is calculated depending on area+10% and type of property apartment have 0\n",
    "immoweb_logicimmo[(immoweb_logicimmo.surface_of_the_land.isna()) & (immoweb_logicimmo.type_of_property=='house')][['type_of_property','surface_of_the_land']]\n",
    "immoweb_logicimmo.surface_of_the_land = np.where(((immoweb_logicimmo.surface_of_the_land.isna()) & (immoweb_logicimmo.type_of_property =='house')),(immoweb_logicimmo.area*1.10),immoweb_logicimmo.surface_of_the_land)\n",
    "immoweb_logicimmo.surface_of_the_land = np.where(((immoweb_logicimmo.surface_of_the_land.isna()) & (immoweb_logicimmo.type_of_property =='apartment')),0.0,immoweb_logicimmo.surface_of_the_land)"
   ]
  },
  {
   "cell_type": "code",
   "execution_count": 15,
   "metadata": {
    "ExecuteTime": {
     "end_time": "2021-06-02T17:39:17.423194Z",
     "start_time": "2021-06-02T17:39:17.405085Z"
    },
    "pycharm": {
     "is_executing": true,
     "name": "#%%\n"
    }
   },
   "outputs": [],
   "source": [
    "#h. Terrace is  there and terrace area is na and filled up with 10% area\n",
    "average_terrace_area= immoweb_logicimmo.terrace_area.mean()/10\n",
    "immoweb_logicimmo.terrace_area= np.where(immoweb_logicimmo.terrace ==0.0,0.0,immoweb_logicimmo.terrace_area)\n",
    "immoweb_logicimmo.terrace_area= np.where(((immoweb_logicimmo.terrace_area.isna())&(immoweb_logicimmo.terrace ==1.0)),(immoweb_logicimmo.area*0.10),immoweb_logicimmo.terrace_area)"
   ]
  },
  {
   "cell_type": "code",
   "execution_count": 16,
   "metadata": {
    "ExecuteTime": {
     "end_time": "2021-06-02T17:39:17.446912Z",
     "start_time": "2021-06-02T17:39:17.427648Z"
    },
    "pycharm": {
     "is_executing": true,
     "name": "#%%\n"
    }
   },
   "outputs": [],
   "source": [
    "#i. garden area is depeding on surface area of land\n",
    "immoweb_logicimmo.garden_area= np.where(immoweb_logicimmo.garden ==0.0,0.0,immoweb_logicimmo.garden_area)\n",
    "immoweb_logicimmo.garden_area= np.where(((immoweb_logicimmo.garden_area.isna())&(immoweb_logicimmo.garden ==1.0)),(immoweb_logicimmo.surface_of_the_land*0.10),immoweb_logicimmo.garden_area)"
   ]
  },
  {
   "cell_type": "code",
   "execution_count": 17,
   "metadata": {
    "ExecuteTime": {
     "end_time": "2021-06-02T17:39:17.484791Z",
     "start_time": "2021-06-02T17:39:17.452025Z"
    },
    "pycharm": {
     "is_executing": true,
     "name": "#%%\n"
    }
   },
   "outputs": [],
   "source": [
    "#j number of facades are difficult to calculate so took average but they make no value to prediction?\n",
    "average_number_of_facades = immoweb_logicimmo.number_of_facades.median()\n",
    "immoweb_logicimmo[['type_of_property','number_of_facades']]\n",
    "immoweb_logicimmo.number_of_facades = np.where((immoweb_logicimmo.number_of_facades.isna()) & (immoweb_logicimmo.type_of_property=='house'),average_number_of_facades,0)"
   ]
  },
  {
   "cell_type": "code",
   "execution_count": 18,
   "metadata": {
    "ExecuteTime": {
     "end_time": "2021-06-02T17:39:17.551115Z",
     "start_time": "2021-06-02T17:39:17.494917Z"
    },
    "pycharm": {
     "is_executing": true,
     "name": "#%%\n"
    }
   },
   "outputs": [
    {
     "data": {
      "text/plain": [
       "locality                      0\n",
       "type_of_property              0\n",
       "subtype_of_property       53527\n",
       "price                         0\n",
       "number_of_rooms               0\n",
       "area                          0\n",
       "fully_equipped_kitchen        0\n",
       "furnished                     0\n",
       "open_fire                     0\n",
       "terrace                       0\n",
       "terrace_area                  0\n",
       "garden                        0\n",
       "garden_area                   0\n",
       "surface_of_the_land           0\n",
       "number_of_facades             0\n",
       "swimming_pool                 0\n",
       "state_of_the_building         0\n",
       "province                      0\n",
       "region                        0\n",
       "dtype: int64"
      ]
     },
     "execution_count": 18,
     "metadata": {},
     "output_type": "execute_result"
    }
   ],
   "source": [
    "#k.good,new,to reovate,oldandgood\n",
    "immoweb_logicimmo.state_of_the_building.unique()\n",
    "immoweb_logicimmo.state_of_the_building.fillna('old',inplace=True)\n",
    "immoweb_logicimmo.isna().sum()"
   ]
  },
  {
   "cell_type": "code",
   "execution_count": 19,
   "metadata": {
    "ExecuteTime": {
     "end_time": "2021-06-02T17:39:17.588264Z",
     "start_time": "2021-06-02T17:39:17.558083Z"
    },
    "pycharm": {
     "is_executing": true,
     "name": "#%%\n"
    }
   },
   "outputs": [],
   "source": [
    "#Imputation from sklearn for filling up nan values in  Dataframe columns can be used.....need to be tried.\n",
    "#OneHotEncoder from sklearn for categorical columns  to divide them\n",
    "# For type_of_property\n",
    "for property_type in (immoweb_logicimmo.type_of_property.unique()):\n",
    "    immoweb_logicimmo[property_type] = np.where(immoweb_logicimmo.type_of_property == property_type, 1, 0)"
   ]
  },
  {
   "cell_type": "code",
   "execution_count": 20,
   "metadata": {
    "ExecuteTime": {
     "end_time": "2021-06-02T17:39:17.645337Z",
     "start_time": "2021-06-02T17:39:17.592476Z"
    },
    "pycharm": {
     "is_executing": true,
     "name": "#%%\n"
    }
   },
   "outputs": [],
   "source": [
    "# Creating numeric column for type_of_property by having the value but not good as they are given priority  using price\n",
    "mean_price_by_type = immoweb_logicimmo[['type_of_property', 'price']].groupby('type_of_property').mean('price')\n",
    "mapping_score_ = round(mean_price_by_type['price'].sort_values(ascending=False) / 1000000, 2)\n",
    "mapping_score_type = dict(mapping_score_)\n",
    "immoweb_logicimmo['type_of_property_num'] = immoweb_logicimmo['type_of_property'].apply(lambda x: mapping_score_type.get(x, 0))"
   ]
  },
  {
   "cell_type": "code",
   "execution_count": 21,
   "metadata": {
    "ExecuteTime": {
     "end_time": "2021-06-02T17:39:17.695971Z",
     "start_time": "2021-06-02T17:39:17.648147Z"
    },
    "pycharm": {
     "is_executing": true,
     "name": "#%%\n"
    }
   },
   "outputs": [],
   "source": [
    "# For state_of_the_building create new columns\n",
    "for buildingstate in (immoweb_logicimmo.state_of_the_building.unique()):\n",
    "    immoweb_logicimmo[buildingstate] = np.where(immoweb_logicimmo.state_of_the_building == buildingstate, 1, 0)"
   ]
  },
  {
   "cell_type": "code",
   "execution_count": 22,
   "metadata": {
    "ExecuteTime": {
     "end_time": "2021-06-02T17:39:17.805709Z",
     "start_time": "2021-06-02T17:39:17.699032Z"
    },
    "pycharm": {
     "is_executing": true,
     "name": "#%%\n"
    }
   },
   "outputs": [],
   "source": [
    "# For province creating new columns\n",
    "for province in (immoweb_logicimmo.province.unique()):\n",
    "    immoweb_logicimmo[province] = np.where(immoweb_logicimmo.province == province, 1, 0)"
   ]
  },
  {
   "cell_type": "code",
   "execution_count": 23,
   "metadata": {
    "ExecuteTime": {
     "end_time": "2021-06-02T17:39:17.908321Z",
     "start_time": "2021-06-02T17:39:17.818730Z"
    },
    "pycharm": {
     "is_executing": true,
     "name": "#%%\n"
    }
   },
   "outputs": [],
   "source": [
    "# create new numeric column for region also depends on price given priority and score\n",
    "mean_price_by_province = immoweb_logicimmo[['province', 'price']].groupby('province').mean('price')\n",
    "mapping_score = round(mean_price_by_province['price'].sort_values(ascending=False) / 1000000, 2)\n",
    "mapping_score_province = dict(mapping_score)\n",
    "immoweb_logicimmo['province_num'] = immoweb_logicimmo['province'].apply(lambda x: mapping_score_province.get(x, 0))"
   ]
  },
  {
   "cell_type": "code",
   "execution_count": 24,
   "metadata": {
    "ExecuteTime": {
     "end_time": "2021-06-02T17:39:17.960799Z",
     "start_time": "2021-06-02T17:39:17.923472Z"
    },
    "pycharm": {
     "is_executing": true,
     "name": "#%%\n"
    }
   },
   "outputs": [],
   "source": [
    "# For region create categorical columns\n",
    "for region in (immoweb_logicimmo.region.unique()):\n",
    "    immoweb_logicimmo[region] = np.where(immoweb_logicimmo.region == region, 1, 0)"
   ]
  },
  {
   "cell_type": "code",
   "execution_count": 25,
   "metadata": {
    "ExecuteTime": {
     "end_time": "2021-06-02T17:39:18.056210Z",
     "start_time": "2021-06-02T17:39:17.966282Z"
    },
    "pycharm": {
     "is_executing": true,
     "name": "#%%\n"
    }
   },
   "outputs": [],
   "source": [
    "# create new numerical column for region depends on price\n",
    "mean_price_by_region = immoweb_logicimmo[['region', 'price']].groupby('region').mean('price')\n",
    "mapping_score_r = round(mean_price_by_region['price'].sort_values(ascending=False) / 1000000, 2)\n",
    "mapping_score_region = dict(mapping_score_r)\n",
    "immoweb_logicimmo['region_num'] = immoweb_logicimmo['region'].apply(lambda x: mapping_score_region.get(x, 0))"
   ]
  },
  {
   "cell_type": "code",
   "execution_count": 26,
   "metadata": {
    "ExecuteTime": {
     "end_time": "2021-06-02T17:39:18.066274Z",
     "start_time": "2021-06-02T17:39:18.060186Z"
    },
    "pycharm": {
     "is_executing": true,
     "name": "#%%\n"
    }
   },
   "outputs": [],
   "source": [
    "# creating new  categorical columns for locality\n",
    "# postal_codes =pd.read_csv('./postal_codes.csv',sep=\";\")\n",
    "# codes_value = postal_codes.iloc[:,0:2].to_dict(orient='split').get('data')\n",
    "# pcode_lname ={}\n",
    "# for item in codes_value:\n",
    "#     pcode_lname[item[0]]= item[1]\n",
    "# #pcode_lname"
   ]
  },
  {
   "cell_type": "code",
   "execution_count": 27,
   "metadata": {
    "ExecuteTime": {
     "end_time": "2021-06-02T17:39:18.079629Z",
     "start_time": "2021-06-02T17:39:18.073054Z"
    },
    "pycharm": {
     "is_executing": true,
     "name": "#%%\n"
    }
   },
   "outputs": [],
   "source": [
    "# # For Locality 1000 columns not working on my machine due to lot of columns so stopped using them\n",
    "# for locality in (immoweb_logicimmo.locality.unique()):\n",
    "#     immoweb_logicimmo[pcode_lname[locality]] = np.where(immoweb_logicimmo.locality == locality, 1, 0)"
   ]
  },
  {
   "cell_type": "code",
   "execution_count": 28,
   "metadata": {
    "ExecuteTime": {
     "end_time": "2021-06-02T17:39:18.100049Z",
     "start_time": "2021-06-02T17:39:18.084802Z"
    },
    "pycharm": {
     "is_executing": true,
     "name": "#%%\n"
    }
   },
   "outputs": [],
   "source": [
    "#fill \n",
    "immoweb_logicimmo.subtype_of_property.fillna(\"house-apartment-sub\",inplace=True)"
   ]
  },
  {
   "cell_type": "code",
   "execution_count": 29,
   "metadata": {
    "ExecuteTime": {
     "end_time": "2021-06-02T17:39:18.308395Z",
     "start_time": "2021-06-02T17:39:18.119016Z"
    },
    "pycharm": {
     "is_executing": true,
     "name": "#%%\n"
    }
   },
   "outputs": [],
   "source": [
    "# For Sub type of property create categorical columns\n",
    "for subtype_of_property in (immoweb_logicimmo.subtype_of_property.unique()):\n",
    "    immoweb_logicimmo[subtype_of_property] = np.where(immoweb_logicimmo.subtype_of_property == subtype_of_property, 1, 0)"
   ]
  },
  {
   "cell_type": "code",
   "execution_count": 30,
   "metadata": {
    "ExecuteTime": {
     "end_time": "2021-06-02T17:39:18.321153Z",
     "start_time": "2021-06-02T17:39:18.311765Z"
    },
    "pycharm": {
     "is_executing": true,
     "name": "#%%\n"
    }
   },
   "outputs": [],
   "source": [
    "# replace space in columns newly created with '_'\n",
    "immoweb_logicimmo.columns = immoweb_logicimmo.columns.str.replace(' ','_')"
   ]
  },
  {
   "cell_type": "code",
   "execution_count": 31,
   "metadata": {
    "ExecuteTime": {
     "end_time": "2021-06-02T17:39:18.938633Z",
     "start_time": "2021-06-02T17:39:18.323902Z"
    }
   },
   "outputs": [
    {
     "data": {
      "text/plain": [
       "[]"
      ]
     },
     "execution_count": 31,
     "metadata": {},
     "output_type": "execute_result"
    },
    {
     "data": {
      "image/png": "[encoded data removed]",
      "text/plain": [
       "<Figure size 720x2160 with 3 Axes>"
      ]
     },
     "metadata": {
      "needs_background": "light"
     },
     "output_type": "display_data"
    }
   ],
   "source": [
    "# Trying to find the rows having effect on prediction\n",
    "plt.figure(figsize = (10 , 30))\n",
    "plt.subplot(131)\n",
    "sns.boxplot(data=immoweb_logicimmo[['price']])\n",
    "plt.subplot(132)\n",
    "sns.boxplot(data=immoweb_logicimmo[['number_of_rooms']])\n",
    "plt.subplot(133)\n",
    "sns.boxplot(data=immoweb_logicimmo[['area']])\n",
    "plt.xticks(rotation=-90);\n",
    "plt.plot()"
   ]
  },
  {
   "cell_type": "code",
   "execution_count": 32,
   "metadata": {
    "ExecuteTime": {
     "end_time": "2021-06-02T17:39:19.045572Z",
     "start_time": "2021-06-02T17:39:18.942880Z"
    },
    "pycharm": {
     "is_executing": true,
     "name": "#%%\n"
    }
   },
   "outputs": [],
   "source": [
    "# depending on above result we change the rows to be taken\n",
    "immoweb_logicimmo.drop(immoweb_logicimmo[immoweb_logicimmo.price >4000000].index,inplace=True)\n",
    "immoweb_logicimmo.drop(immoweb_logicimmo[immoweb_logicimmo.number_of_rooms>21].index,inplace=True)\n",
    "immoweb_logicimmo.drop(immoweb_logicimmo[immoweb_logicimmo.area>1200].index,inplace=True)"
   ]
  },
  {
   "cell_type": "code",
   "execution_count": 33,
   "metadata": {
    "ExecuteTime": {
     "end_time": "2021-06-02T17:39:19.767880Z",
     "start_time": "2021-06-02T17:39:19.048790Z"
    },
    "pycharm": {
     "is_executing": true,
     "name": "#%%\n"
    }
   },
   "outputs": [
    {
     "data": {
      "text/html": [
       "<div>\n",
       "<style scoped>\n",
       "    .dataframe tbody tr th:only-of-type {\n",
       "        vertical-align: middle;\n",
       "    }\n",
       "\n",
       "    .dataframe tbody tr th {\n",
       "        vertical-align: top;\n",
       "    }\n",
       "\n",
       "    .dataframe thead th {\n",
       "        text-align: right;\n",
       "    }\n",
       "</style>\n",
       "<table border=\"1\" class=\"dataframe\">\n",
       "  <thead>\n",
       "    <tr style=\"text-align: right;\">\n",
       "      <th></th>\n",
       "      <th>locality</th>\n",
       "      <th>price</th>\n",
       "      <th>number_of_rooms</th>\n",
       "      <th>area</th>\n",
       "      <th>fully_equipped_kitchen</th>\n",
       "      <th>furnished</th>\n",
       "      <th>open_fire</th>\n",
       "      <th>terrace</th>\n",
       "      <th>terrace_area</th>\n",
       "      <th>garden</th>\n",
       "      <th>garden_area</th>\n",
       "      <th>surface_of_the_land</th>\n",
       "      <th>number_of_facades</th>\n",
       "      <th>swimming_pool</th>\n",
       "      <th>apartment</th>\n",
       "      <th>house</th>\n",
       "      <th>type_of_property_num</th>\n",
       "      <th>old</th>\n",
       "      <th>good</th>\n",
       "      <th>new</th>\n",
       "      <th>to_renovate</th>\n",
       "      <th>Antwerp</th>\n",
       "      <th>Vlaams-Brabant</th>\n",
       "      <th>West-Vlanderen</th>\n",
       "      <th>Liège</th>\n",
       "      <th>Oost-Vlanderen</th>\n",
       "      <th>Namur</th>\n",
       "      <th>Brussels</th>\n",
       "      <th>Hainaut</th>\n",
       "      <th>Luxembourg</th>\n",
       "      <th>Brabant_Wallon</th>\n",
       "      <th>Limburg</th>\n",
       "      <th>province_num</th>\n",
       "      <th>Vlaams</th>\n",
       "      <th>Wallonie</th>\n",
       "      <th>Brussels_Capital</th>\n",
       "      <th>region_num</th>\n",
       "      <th>house-apartment-sub</th>\n",
       "      <th>penthouse</th>\n",
       "      <th>studio</th>\n",
       "      <th>duplex</th>\n",
       "      <th>loft</th>\n",
       "      <th>ground_floor</th>\n",
       "      <th>triplex</th>\n",
       "      <th>building</th>\n",
       "      <th>student</th>\n",
       "      <th>investment_property</th>\n",
       "      <th>villa</th>\n",
       "      <th>mansion</th>\n",
       "      <th>mixed</th>\n",
       "      <th>apartments_row</th>\n",
       "      <th>farmhouse</th>\n",
       "      <th>castle</th>\n",
       "      <th>floor</th>\n",
       "      <th>town</th>\n",
       "      <th>service_flat</th>\n",
       "      <th>cottage</th>\n",
       "      <th>manor</th>\n",
       "      <th>pavilion</th>\n",
       "    </tr>\n",
       "  </thead>\n",
       "  <tbody>\n",
       "    <tr>\n",
       "      <th>locality</th>\n",
       "      <td>1.000000</td>\n",
       "      <td>-0.141792</td>\n",
       "      <td>-0.018169</td>\n",
       "      <td>-0.047248</td>\n",
       "      <td>-0.127689</td>\n",
       "      <td>0.015165</td>\n",
       "      <td>-0.067638</td>\n",
       "      <td>-0.125931</td>\n",
       "      <td>-0.036889</td>\n",
       "      <td>-0.010061</td>\n",
       "      <td>-0.010579</td>\n",
       "      <td>-0.012317</td>\n",
       "      <td>0.150347</td>\n",
       "      <td>-0.030494</td>\n",
       "      <td>-0.104396</td>\n",
       "      <td>0.104396</td>\n",
       "      <td>0.104396</td>\n",
       "      <td>0.108593</td>\n",
       "      <td>-0.075613</td>\n",
       "      <td>-0.059618</td>\n",
       "      <td>-0.026594</td>\n",
       "      <td>-0.349013</td>\n",
       "      <td>-0.292545</td>\n",
       "      <td>0.533932</td>\n",
       "      <td>-0.109544</td>\n",
       "      <td>0.493854</td>\n",
       "      <td>-0.006826</td>\n",
       "      <td>-0.495761</td>\n",
       "      <td>0.205447</td>\n",
       "      <td>0.060952</td>\n",
       "      <td>-0.283652</td>\n",
       "      <td>-0.123084</td>\n",
       "      <td>-0.517307</td>\n",
       "      <td>0.344572</td>\n",
       "      <td>-0.032938</td>\n",
       "      <td>-0.495761</td>\n",
       "      <td>-0.361156</td>\n",
       "      <td>0.091424</td>\n",
       "      <td>-0.056241</td>\n",
       "      <td>-0.032202</td>\n",
       "      <td>-0.045316</td>\n",
       "      <td>-0.012597</td>\n",
       "      <td>-0.054092</td>\n",
       "      <td>-0.021619</td>\n",
       "      <td>-0.042689</td>\n",
       "      <td>-0.023217</td>\n",
       "      <td>-0.000480</td>\n",
       "      <td>-0.013860</td>\n",
       "      <td>-0.005278</td>\n",
       "      <td>0.002883</td>\n",
       "      <td>0.041400</td>\n",
       "      <td>0.005438</td>\n",
       "      <td>0.006516</td>\n",
       "      <td>-0.005061</td>\n",
       "      <td>-0.014299</td>\n",
       "      <td>0.017230</td>\n",
       "      <td>0.01308</td>\n",
       "      <td>-0.000276</td>\n",
       "      <td>-0.003299</td>\n",
       "    </tr>\n",
       "    <tr>\n",
       "      <th>price</th>\n",
       "      <td>-0.141792</td>\n",
       "      <td>1.000000</td>\n",
       "      <td>0.404465</td>\n",
       "      <td>0.591852</td>\n",
       "      <td>0.141925</td>\n",
       "      <td>-0.014189</td>\n",
       "      <td>0.184567</td>\n",
       "      <td>0.070628</td>\n",
       "      <td>0.101272</td>\n",
       "      <td>0.072878</td>\n",
       "      <td>0.057584</td>\n",
       "      <td>0.149594</td>\n",
       "      <td>0.045100</td>\n",
       "      <td>0.204143</td>\n",
       "      <td>-0.099848</td>\n",
       "      <td>0.099848</td>\n",
       "      <td>0.099848</td>\n",
       "      <td>-0.052154</td>\n",
       "      <td>0.099667</td>\n",
       "      <td>0.001334</td>\n",
       "      <td>-0.079768</td>\n",
       "      <td>0.031768</td>\n",
       "      <td>0.047547</td>\n",
       "      <td>0.015836</td>\n",
       "      <td>-0.101746</td>\n",
       "      <td>-0.009278</td>\n",
       "      <td>-0.049253</td>\n",
       "      <td>0.212816</td>\n",
       "      <td>-0.152090</td>\n",
       "      <td>-0.034390</td>\n",
       "      <td>0.036700</td>\n",
       "      <td>-0.031155</td>\n",
       "      <td>0.279883</td>\n",
       "      <td>0.039495</td>\n",
       "      <td>-0.185212</td>\n",
       "      <td>0.212816</td>\n",
       "      <td>0.253080</td>\n",
       "      <td>-0.204501</td>\n",
       "      <td>0.107845</td>\n",
       "      <td>-0.078311</td>\n",
       "      <td>0.010658</td>\n",
       "      <td>0.026475</td>\n",
       "      <td>-0.026003</td>\n",
       "      <td>0.010123</td>\n",
       "      <td>0.078144</td>\n",
       "      <td>-0.028570</td>\n",
       "      <td>0.001552</td>\n",
       "      <td>0.234813</td>\n",
       "      <td>0.084409</td>\n",
       "      <td>0.008406</td>\n",
       "      <td>-0.000467</td>\n",
       "      <td>0.051321</td>\n",
       "      <td>0.091553</td>\n",
       "      <td>-0.001157</td>\n",
       "      <td>-0.002642</td>\n",
       "      <td>-0.026375</td>\n",
       "      <td>0.03846</td>\n",
       "      <td>0.045887</td>\n",
       "      <td>0.005795</td>\n",
       "    </tr>\n",
       "  </tbody>\n",
       "</table>\n",
       "</div>"
      ],
      "text/plain": [
       "          locality     price  number_of_rooms      area  \\\n",
       "locality  1.000000 -0.141792        -0.018169 -0.047248   \n",
       "price    -0.141792  1.000000         0.404465  0.591852   \n",
       "\n",
       "          fully_equipped_kitchen  furnished  open_fire   terrace  \\\n",
       "locality               -0.127689   0.015165  -0.067638 -0.125931   \n",
       "price                   0.141925  -0.014189   0.184567  0.070628   \n",
       "\n",
       "          terrace_area    garden  garden_area  surface_of_the_land  \\\n",
       "locality     -0.036889 -0.010061    -0.010579            -0.012317   \n",
       "price         0.101272  0.072878     0.057584             0.149594   \n",
       "\n",
       "          number_of_facades  swimming_pool  apartment     house  \\\n",
       "locality           0.150347      -0.030494  -0.104396  0.104396   \n",
       "price              0.045100       0.204143  -0.099848  0.099848   \n",
       "\n",
       "          type_of_property_num       old      good       new  to_renovate  \\\n",
       "locality              0.104396  0.108593 -0.075613 -0.059618    -0.026594   \n",
       "price                 0.099848 -0.052154  0.099667  0.001334    -0.079768   \n",
       "\n",
       "           Antwerp  Vlaams-Brabant  West-Vlanderen     Liège  Oost-Vlanderen  \\\n",
       "locality -0.349013       -0.292545        0.533932 -0.109544        0.493854   \n",
       "price     0.031768        0.047547        0.015836 -0.101746       -0.009278   \n",
       "\n",
       "             Namur  Brussels   Hainaut  Luxembourg  Brabant_Wallon   Limburg  \\\n",
       "locality -0.006826 -0.495761  0.205447    0.060952       -0.283652 -0.123084   \n",
       "price    -0.049253  0.212816 -0.152090   -0.034390        0.036700 -0.031155   \n",
       "\n",
       "          province_num    Vlaams  Wallonie  Brussels_Capital  region_num  \\\n",
       "locality     -0.517307  0.344572 -0.032938         -0.495761   -0.361156   \n",
       "price         0.279883  0.039495 -0.185212          0.212816    0.253080   \n",
       "\n",
       "          house-apartment-sub  penthouse    studio    duplex      loft  \\\n",
       "locality             0.091424  -0.056241 -0.032202 -0.045316 -0.012597   \n",
       "price               -0.204501   0.107845 -0.078311  0.010658  0.026475   \n",
       "\n",
       "          ground_floor   triplex  building   student  investment_property  \\\n",
       "locality     -0.054092 -0.021619 -0.042689 -0.023217            -0.000480   \n",
       "price        -0.026003  0.010123  0.078144 -0.028570             0.001552   \n",
       "\n",
       "             villa   mansion     mixed  apartments_row  farmhouse    castle  \\\n",
       "locality -0.013860 -0.005278  0.002883        0.041400   0.005438  0.006516   \n",
       "price     0.234813  0.084409  0.008406       -0.000467   0.051321  0.091553   \n",
       "\n",
       "             floor      town  service_flat  cottage     manor  pavilion  \n",
       "locality -0.005061 -0.014299      0.017230  0.01308 -0.000276 -0.003299  \n",
       "price    -0.001157 -0.002642     -0.026375  0.03846  0.045887  0.005795  "
      ]
     },
     "execution_count": 33,
     "metadata": {},
     "output_type": "execute_result"
    }
   ],
   "source": [
    "# Find correlation\n",
    "immoweb_logicimmo.corr().head(2)"
   ]
  },
  {
   "cell_type": "code",
   "execution_count": 34,
   "metadata": {
    "ExecuteTime": {
     "end_time": "2021-06-02T17:39:21.231358Z",
     "start_time": "2021-06-02T17:39:19.771444Z"
    },
    "pycharm": {
     "is_executing": true,
     "name": "#%%\n"
    }
   },
   "outputs": [],
   "source": [
    "# export to csv the data\n",
    "immoweb_logicimmo.to_csv('./immo_logicimmo_train.csv')"
   ]
  },
  {
   "cell_type": "code",
   "execution_count": 35,
   "metadata": {
    "ExecuteTime": {
     "end_time": "2021-06-02T17:39:21.244099Z",
     "start_time": "2021-06-02T17:39:21.234170Z"
    },
    "pycharm": {
     "is_executing": true,
     "name": "#%%\n"
    }
   },
   "outputs": [
    {
     "data": {
      "text/plain": [
       "(66792, 64)"
      ]
     },
     "execution_count": 35,
     "metadata": {},
     "output_type": "execute_result"
    }
   ],
   "source": [
    "immoweb_logicimmo.shape"
   ]
  },
  {
   "cell_type": "code",
   "execution_count": 36,
   "metadata": {
    "ExecuteTime": {
     "end_time": "2021-06-02T17:39:21.278535Z",
     "start_time": "2021-06-02T17:39:21.264908Z"
    },
    "pycharm": {
     "is_executing": true,
     "name": "#%%\n"
    }
   },
   "outputs": [
    {
     "data": {
      "text/plain": [
       "Index(['locality', 'type_of_property', 'subtype_of_property', 'price',\n",
       "       'number_of_rooms', 'area', 'fully_equipped_kitchen', 'furnished',\n",
       "       'open_fire', 'terrace', 'terrace_area', 'garden', 'garden_area',\n",
       "       'surface_of_the_land', 'number_of_facades', 'swimming_pool',\n",
       "       'state_of_the_building', 'province', 'region', 'apartment', 'house',\n",
       "       'type_of_property_num', 'old', 'good', 'new', 'to_renovate', 'Antwerp',\n",
       "       'Vlaams-Brabant', 'West-Vlanderen', 'Liège', 'Oost-Vlanderen', 'Namur',\n",
       "       'Brussels', 'Hainaut', 'Luxembourg', 'Brabant_Wallon', 'Limburg',\n",
       "       'province_num', 'Vlaams', 'Wallonie', 'Brussels_Capital', 'region_num',\n",
       "       'house-apartment-sub', 'penthouse', 'studio', 'duplex', 'loft',\n",
       "       'ground_floor', 'triplex', 'building', 'student', 'investment_property',\n",
       "       'villa', 'mansion', 'mixed', 'apartments_row', 'farmhouse', 'castle',\n",
       "       'floor', 'town', 'service_flat', 'cottage', 'manor', 'pavilion'],\n",
       "      dtype='object')"
      ]
     },
     "execution_count": 36,
     "metadata": {},
     "output_type": "execute_result"
    }
   ],
   "source": [
    "# To get features and target needed\n",
    "immoweb_logicimmo.columns"
   ]
  },
  {
   "cell_type": "code",
   "execution_count": 37,
   "metadata": {
    "ExecuteTime": {
     "end_time": "2021-06-02T17:39:21.310159Z",
     "start_time": "2021-06-02T17:39:21.282936Z"
    },
    "pycharm": {
     "is_executing": true,
     "name": "#%%\n"
    }
   },
   "outputs": [],
   "source": [
    "#Divide X and y\n",
    "X= immoweb_logicimmo[['number_of_rooms', 'area', 'fully_equipped_kitchen',\n",
    "       'open_fire', 'terrace', 'terrace_area', 'garden', 'garden_area',\n",
    "       'surface_of_the_land', 'swimming_pool', 'apartment', 'house',\n",
    "       'old', 'good', 'new', 'to_renovate', 'Antwerp',\n",
    "       'Vlaams-Brabant', 'West-Vlanderen', 'Liège', 'Oost-Vlanderen', 'Namur',\n",
    "       'Brussels', 'Hainaut', 'Luxembourg', 'Brabant_Wallon', 'Limburg',\n",
    "       'Vlaams', 'Wallonie', 'Brussels_Capital',\n",
    "       'house-apartment-sub', 'penthouse', 'studio', 'duplex', 'loft',\n",
    "       'ground_floor', 'triplex', 'building', 'student', 'mansion', 'villa',\n",
    "       'mixed', 'apartments_row', 'farmhouse', 'castle', 'floor', 'town',\n",
    "       'service_flat', 'cottage', 'manor', 'pavilion']]\n",
    "y =immoweb_logicimmo['price']"
   ]
  },
  {
   "cell_type": "code",
   "execution_count": 38,
   "metadata": {
    "ExecuteTime": {
     "end_time": "2021-06-02T17:39:21.399963Z",
     "start_time": "2021-06-02T17:39:21.334741Z"
    },
    "pycharm": {
     "is_executing": true,
     "name": "#%%\n"
    }
   },
   "outputs": [],
   "source": [
    "# Train the data by dividing the train ad test\n",
    "\n",
    "X_train, X_test, y_train, y_test = train_test_split(X,y,test_size=0.2)"
   ]
  },
  {
   "cell_type": "code",
   "execution_count": 39,
   "metadata": {
    "ExecuteTime": {
     "end_time": "2021-06-02T17:39:21.412922Z",
     "start_time": "2021-06-02T17:39:21.405199Z"
    },
    "pycharm": {
     "is_executing": true,
     "name": "#%%\n"
    }
   },
   "outputs": [],
   "source": [
    "# Simple Linear Regression  and pipeline with PolynomialFeatures of degree\n",
    "def score_model(X,y):\n",
    "    linear_regr = LinearRegression()\n",
    "    model = linear_regr.fit(X,y)\n",
    "    return  model.score(X,y), model.score(X_test,y_test)"
   ]
  },
  {
   "cell_type": "code",
   "execution_count": 40,
   "metadata": {
    "ExecuteTime": {
     "end_time": "2021-06-02T17:39:21.614395Z",
     "start_time": "2021-06-02T17:39:21.418835Z"
    },
    "pycharm": {
     "is_executing": true,
     "name": "#%%\n"
    }
   },
   "outputs": [
    {
     "data": {
      "text/plain": [
       "(0.5002480200052445, 0.48572508182416885)"
      ]
     },
     "execution_count": 40,
     "metadata": {},
     "output_type": "execute_result"
    }
   ],
   "source": [
    "# real data\n",
    "score_model(X_train,y_train)"
   ]
  },
  {
   "cell_type": "code",
   "execution_count": 41,
   "metadata": {
    "ExecuteTime": {
     "end_time": "2021-06-02T17:39:21.629931Z",
     "start_time": "2021-06-02T17:39:21.621649Z"
    },
    "pycharm": {
     "is_executing": true,
     "name": "#%%\n"
    }
   },
   "outputs": [],
   "source": [
    "# XGB Booster\n",
    "xgb = xgboost.XGBRegressor(n_estimators=1000, learning_rate=0.01, gamma=0, subsample=0.75,colsample_bytree=1,\n",
    "                               max_depth=7)\n",
    "def xgbscore(X_train,y_train):\n",
    "    print(xgb.fit(X_train,y_train))\n",
    "    return xgb.score(X_train,y_train),xgb.score(X_test,y_test)"
   ]
  },
  {
   "cell_type": "code",
   "execution_count": 42,
   "metadata": {
    "ExecuteTime": {
     "end_time": "2021-06-02T17:41:25.872004Z",
     "start_time": "2021-06-02T17:39:21.633973Z"
    },
    "pycharm": {
     "is_executing": true,
     "name": "#%%\n"
    }
   },
   "outputs": [
    {
     "name": "stdout",
     "output_type": "stream",
     "text": [
      "XGBRegressor(base_score=0.5, booster='gbtree', colsample_bylevel=1,\n",
      "             colsample_bynode=1, colsample_bytree=1, gamma=0, gpu_id=-1,\n",
      "             importance_type='gain', interaction_constraints='',\n",
      "             learning_rate=0.01, max_delta_step=0, max_depth=7,\n",
      "             min_child_weight=1, missing=nan, monotone_constraints='()',\n",
      "             n_estimators=1000, n_jobs=4, num_parallel_tree=1, random_state=0,\n",
      "             reg_alpha=0, reg_lambda=1, scale_pos_weight=1, subsample=0.75,\n",
      "             tree_method='exact', validate_parameters=1, verbosity=None)\n"
     ]
    },
    {
     "data": {
      "text/plain": [
       "(0.804884848012745, 0.7013740583877897)"
      ]
     },
     "execution_count": 42,
     "metadata": {},
     "output_type": "execute_result"
    }
   ],
   "source": [
    "# real data\n",
    "xgbscore(X_train,y_train)"
   ]
  },
  {
   "cell_type": "code",
   "execution_count": 43,
   "metadata": {
    "ExecuteTime": {
     "end_time": "2021-06-02T17:41:28.445120Z",
     "start_time": "2021-06-02T17:41:25.876386Z"
    },
    "pycharm": {
     "is_executing": true,
     "name": "#%%\n"
    }
   },
   "outputs": [
    {
     "data": {
      "image/png": "[encoded data removed]",
      "text/plain": [
       "<Figure size 720x360 with 1 Axes>"
      ]
     },
     "metadata": {
      "needs_background": "light"
     },
     "output_type": "display_data"
    }
   ],
   "source": [
    "# Plot the relation betweeen features and target using lassocv\n",
    "lasso = LassoCV().fit(preprocessing.scale(X), y)\n",
    "importance = np.abs(lasso.coef_)\n",
    "feature_names = np.array(X.columns)\n",
    "plt.figure(figsize=(10,5))\n",
    "plt.bar(height=importance, x=feature_names)\n",
    "plt.title(\"Feature importances via coefficients\")\n",
    "plt.xticks(rotation =90)\n",
    "plt.xlabel(\"Features\")\n",
    "plt.ylabel(\"coefficients\")\n",
    "plt.show()"
   ]
  },
  {
   "cell_type": "markdown",
   "metadata": {},
   "source": []
  }
 ],
 "metadata": {
  "hide_input": false,
  "kernelspec": {
   "display_name": "Python 3",
   "language": "python",
   "name": "python3"
  },
  "language_info": {
   "codemirror_mode": {
    "name": "ipython",
    "version": 3
   },
   "file_extension": ".py",
   "mimetype": "text/x-python",
   "name": "python",
   "nbconvert_exporter": "python",
   "pygments_lexer": "ipython3",
   "version": "3.8.2"
  },
  "nbTranslate": {
   "displayLangs": [
    "*"
   ],
   "hotkey": "alt-t",
   "langInMainMenu": true,
   "sourceLang": "en",
   "targetLang": "fr",
   "useGoogleTranslate": true
  },
  "toc": {
   "base_numbering": 1,
   "nav_menu": {},
   "number_sections": true,
   "sideBar": true,
   "skip_h1_title": false,
   "title_cell": "Table of Contents",
   "title_sidebar": "Contents",
   "toc_cell": false,
   "toc_position": {},
   "toc_section_display": true,
   "toc_window_display": false
  },
  "varInspector": {
   "cols": {
    "lenName": 16,
    "lenType": 16,
    "lenVar": 40
   },
   "kernels_config": {
    "python": {
     "delete_cmd_postfix": "",
     "delete_cmd_prefix": "del ",
     "library": "var_list.py",
     "varRefreshCmd": "print(var_dic_list())"
    },
    "r": {
     "delete_cmd_postfix": ") ",
     "delete_cmd_prefix": "rm(",
     "library": "var_list.r",
     "varRefreshCmd": "cat(var_dic_list()) "
    }
   },
   "types_to_exclude": [
    "module",
    "function",
    "builtin_function_or_method",
    "instance",
    "_Feature"
   ],
   "window_display": false
  }
 },
 "nbformat": 4,
 "nbformat_minor": 1
}
